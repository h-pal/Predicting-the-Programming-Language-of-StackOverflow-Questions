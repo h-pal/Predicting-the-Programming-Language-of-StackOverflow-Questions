{
 "cells": [
  {
   "cell_type": "markdown",
   "metadata": {},
   "source": [
    "### Import required libraries"
   ]
  },
  {
   "cell_type": "code",
   "execution_count": 1,
   "metadata": {
    "colab": {},
    "colab_type": "code",
    "id": "O_gYrK4YECT4"
   },
   "outputs": [],
   "source": [
    "from tensorflow.keras.preprocessing.text import Tokenizer\n",
    "from tensorflow.keras.utils import to_categorical\n",
    "from tensorflow.keras.preprocessing.sequence import pad_sequences\n",
    "import numpy as np\n",
    "from sklearn.metrics import accuracy_score\n",
    "from tensorflow.keras.models import Sequential,load_model\n",
    "from tensorflow.keras.layers import Dense,Dropout,LSTM,BatchNormalization,SimpleRNN,Embedding\n",
    "from tensorflow.keras.callbacks import EarlyStopping\n",
    "from tensorflow.keras.regularizers import l2\n",
    "from tensorflow.keras import optimizers\n",
    "from tensorflow.keras import metrics\n",
    "import pandas as pd\n",
    "import nltk\n",
    "import re\n",
    "from matplotlib import pyplot"
   ]
  },
  {
   "cell_type": "markdown",
   "metadata": {},
   "source": [
    "### Download NLTK packages"
   ]
  },
  {
   "cell_type": "code",
   "execution_count": 2,
   "metadata": {
    "colab": {
     "base_uri": "https://localhost:8080/",
     "height": 144
    },
    "colab_type": "code",
    "id": "gSD-UKuH66iU",
    "outputId": "6c00c0f0-92cc-4e3a-b76a-b2768daec2c2"
   },
   "outputs": [
    {
     "name": "stdout",
     "output_type": "stream",
     "text": [
      "[nltk_data] Downloading package stopwords to /root/nltk_data...\n",
      "[nltk_data]   Package stopwords is already up-to-date!\n",
      "[nltk_data] Downloading package wordnet to /root/nltk_data...\n",
      "[nltk_data]   Package wordnet is already up-to-date!\n",
      "[nltk_data] Downloading package punkt to /root/nltk_data...\n",
      "[nltk_data]   Package punkt is already up-to-date!\n"
     ]
    },
    {
     "data": {
      "text/plain": [
       "True"
      ]
     },
     "execution_count": 2,
     "metadata": {
      "tags": []
     },
     "output_type": "execute_result"
    }
   ],
   "source": [
    "nltk.download('stopwords')\n",
    "nltk.download('wordnet')\n",
    "nltk.download('punkt')"
   ]
  },
  {
   "cell_type": "markdown",
   "metadata": {},
   "source": [
    "### Defining the output sample space of possible languages"
   ]
  },
  {
   "cell_type": "code",
   "execution_count": 3,
   "metadata": {
    "colab": {},
    "colab_type": "code",
    "id": "RQBtaZgfVLMH"
   },
   "outputs": [],
   "source": [
    "lang=['javascript','sql','python','java','c#','php','c++','c','ruby','swift','r','vba','objective-c','scala','html','shell']\n",
    "lang_index = dict(zip(lang,(i for i in range(len(lang)))))\n",
    "reverse_lang_index = dict(map(reversed, lang_index.items()))"
   ]
  },
  {
   "cell_type": "markdown",
   "metadata": {},
   "source": [
    "### Load and filter the datasets based on above defined output sample space\n",
    "\n",
    "NOTE :- I am considering HTML/CSS as one single language and Bash/Shell/PowerShell as one single language"
   ]
  },
  {
   "cell_type": "code",
   "execution_count": 4,
   "metadata": {
    "colab": {},
    "colab_type": "code",
    "id": "3BtHcip60LYL"
   },
   "outputs": [],
   "source": [
    "sf_tags = pd.read_csv(r'/content/Tags.csv',encoding=\"ISO-8859-1\",)\n",
    "sf_tags = sf_tags.loc[sf_tags['Tag'].isin(lang)]\n",
    "sf_tags = sf_tags.drop_duplicates(subset='Id')\n",
    "sf_qstn = pd.read_csv(r'/content/Questions.csv',encoding=\"ISO-8859-1\")\n",
    "sf_qstn = sf_qstn.loc[sf_qstn['Id'].isin(sf_tags['Id'])]\n",
    "sf_tags.Tag.replace(to_replace=dict(css='html',bash='shell',powershell='shell'), inplace=True)\n",
    "sf_tags.set_index('Id',inplace=True)\n",
    "sf_qstn.set_index('Id',inplace=True)"
   ]
  },
  {
   "cell_type": "code",
   "execution_count": 5,
   "metadata": {
    "colab": {
     "base_uri": "https://localhost:8080/",
     "height": 394
    },
    "colab_type": "code",
    "id": "5fQcBghdiZe5",
    "outputId": "e199c222-826a-455d-e1a6-3b43c7649849"
   },
   "outputs": [
    {
     "data": {
      "text/html": [
       "<div>\n",
       "<style scoped>\n",
       "    .dataframe tbody tr th:only-of-type {\n",
       "        vertical-align: middle;\n",
       "    }\n",
       "\n",
       "    .dataframe tbody tr th {\n",
       "        vertical-align: top;\n",
       "    }\n",
       "\n",
       "    .dataframe thead th {\n",
       "        text-align: right;\n",
       "    }\n",
       "</style>\n",
       "<table border=\"1\" class=\"dataframe\">\n",
       "  <thead>\n",
       "    <tr style=\"text-align: right;\">\n",
       "      <th></th>\n",
       "      <th>OwnerUserId</th>\n",
       "      <th>CreationDate</th>\n",
       "      <th>ClosedDate</th>\n",
       "      <th>Score</th>\n",
       "      <th>Title</th>\n",
       "      <th>Body</th>\n",
       "    </tr>\n",
       "    <tr>\n",
       "      <th>Id</th>\n",
       "      <th></th>\n",
       "      <th></th>\n",
       "      <th></th>\n",
       "      <th></th>\n",
       "      <th></th>\n",
       "      <th></th>\n",
       "    </tr>\n",
       "  </thead>\n",
       "  <tbody>\n",
       "    <tr>\n",
       "      <th>120</th>\n",
       "      <td>83.0</td>\n",
       "      <td>2008-08-01T15:50:08Z</td>\n",
       "      <td>NaN</td>\n",
       "      <td>21</td>\n",
       "      <td>ASP.NET Site Maps</td>\n",
       "      <td>&lt;p&gt;Has anyone got experience creating &lt;strong&gt;...</td>\n",
       "    </tr>\n",
       "    <tr>\n",
       "      <th>260</th>\n",
       "      <td>91.0</td>\n",
       "      <td>2008-08-01T23:22:08Z</td>\n",
       "      <td>NaN</td>\n",
       "      <td>49</td>\n",
       "      <td>Adding scripting functionality to .NET applica...</td>\n",
       "      <td>&lt;p&gt;I have a little game written in C#. It uses...</td>\n",
       "    </tr>\n",
       "    <tr>\n",
       "      <th>330</th>\n",
       "      <td>63.0</td>\n",
       "      <td>2008-08-02T02:51:36Z</td>\n",
       "      <td>NaN</td>\n",
       "      <td>29</td>\n",
       "      <td>Should I use nested classes in this case?</td>\n",
       "      <td>&lt;p&gt;I am working on a collection of classes use...</td>\n",
       "    </tr>\n",
       "    <tr>\n",
       "      <th>650</th>\n",
       "      <td>143.0</td>\n",
       "      <td>2008-08-03T11:12:52Z</td>\n",
       "      <td>NaN</td>\n",
       "      <td>79</td>\n",
       "      <td>Automatically update version number</td>\n",
       "      <td>&lt;p&gt;I would like the version property of my app...</td>\n",
       "    </tr>\n",
       "    <tr>\n",
       "      <th>930</th>\n",
       "      <td>245.0</td>\n",
       "      <td>2008-08-04T00:47:25Z</td>\n",
       "      <td>NaN</td>\n",
       "      <td>28</td>\n",
       "      <td>How do I connect to a database and loop over a...</td>\n",
       "      <td>&lt;p&gt;What's the simplest way to connect and quer...</td>\n",
       "    </tr>\n",
       "    <tr>\n",
       "      <th>1010</th>\n",
       "      <td>67.0</td>\n",
       "      <td>2008-08-04T03:59:42Z</td>\n",
       "      <td>NaN</td>\n",
       "      <td>14</td>\n",
       "      <td>How to get the value of built, encoded ViewState?</td>\n",
       "      <td>&lt;p&gt;I need to grab the base64-encoded represent...</td>\n",
       "    </tr>\n",
       "    <tr>\n",
       "      <th>1040</th>\n",
       "      <td>254.0</td>\n",
       "      <td>2008-08-04T05:45:22Z</td>\n",
       "      <td>NaN</td>\n",
       "      <td>42</td>\n",
       "      <td>How do I delete a file which is locked by anot...</td>\n",
       "      <td>&lt;p&gt;I'm looking for a way to delete a file whic...</td>\n",
       "    </tr>\n",
       "    <tr>\n",
       "      <th>1760</th>\n",
       "      <td>234.0</td>\n",
       "      <td>2008-08-05T00:51:49Z</td>\n",
       "      <td>NaN</td>\n",
       "      <td>51</td>\n",
       "      <td>.NET Unit Testing packages?</td>\n",
       "      <td>&lt;p&gt;Getting back into a bit more .NET after a f...</td>\n",
       "    </tr>\n",
       "    <tr>\n",
       "      <th>1970</th>\n",
       "      <td>116.0</td>\n",
       "      <td>2008-08-05T06:39:31Z</td>\n",
       "      <td>NaN</td>\n",
       "      <td>10</td>\n",
       "      <td>What language do you use for PostgreSQL trigge...</td>\n",
       "      <td>&lt;p&gt;PostgreSQL is interesting in that it suppor...</td>\n",
       "    </tr>\n",
       "    <tr>\n",
       "      <th>2120</th>\n",
       "      <td>383.0</td>\n",
       "      <td>2008-08-05T11:49:11Z</td>\n",
       "      <td>NaN</td>\n",
       "      <td>77</td>\n",
       "      <td>Convert HashBytes to VarChar</td>\n",
       "      <td>&lt;p&gt;I want to get the MD5 Hash of a string valu...</td>\n",
       "    </tr>\n",
       "  </tbody>\n",
       "</table>\n",
       "</div>"
      ],
      "text/plain": [
       "      OwnerUserId  ...                                               Body\n",
       "Id                 ...                                                   \n",
       "120          83.0  ...  <p>Has anyone got experience creating <strong>...\n",
       "260          91.0  ...  <p>I have a little game written in C#. It uses...\n",
       "330          63.0  ...  <p>I am working on a collection of classes use...\n",
       "650         143.0  ...  <p>I would like the version property of my app...\n",
       "930         245.0  ...  <p>What's the simplest way to connect and quer...\n",
       "1010         67.0  ...  <p>I need to grab the base64-encoded represent...\n",
       "1040        254.0  ...  <p>I'm looking for a way to delete a file whic...\n",
       "1760        234.0  ...  <p>Getting back into a bit more .NET after a f...\n",
       "1970        116.0  ...  <p>PostgreSQL is interesting in that it suppor...\n",
       "2120        383.0  ...  <p>I want to get the MD5 Hash of a string valu...\n",
       "\n",
       "[10 rows x 6 columns]"
      ]
     },
     "execution_count": 5,
     "metadata": {
      "tags": []
     },
     "output_type": "execute_result"
    }
   ],
   "source": [
    "sf_qstn.head(10)"
   ]
  },
  {
   "cell_type": "code",
   "execution_count": 6,
   "metadata": {
    "colab": {
     "base_uri": "https://localhost:8080/",
     "height": 394
    },
    "colab_type": "code",
    "id": "AGY6Al5ciccS",
    "outputId": "6f95d564-a20b-4e11-ec85-1a038fa60797"
   },
   "outputs": [
    {
     "data": {
      "text/html": [
       "<div>\n",
       "<style scoped>\n",
       "    .dataframe tbody tr th:only-of-type {\n",
       "        vertical-align: middle;\n",
       "    }\n",
       "\n",
       "    .dataframe tbody tr th {\n",
       "        vertical-align: top;\n",
       "    }\n",
       "\n",
       "    .dataframe thead th {\n",
       "        text-align: right;\n",
       "    }\n",
       "</style>\n",
       "<table border=\"1\" class=\"dataframe\">\n",
       "  <thead>\n",
       "    <tr style=\"text-align: right;\">\n",
       "      <th></th>\n",
       "      <th>Tag</th>\n",
       "    </tr>\n",
       "    <tr>\n",
       "      <th>Id</th>\n",
       "      <th></th>\n",
       "    </tr>\n",
       "  </thead>\n",
       "  <tbody>\n",
       "    <tr>\n",
       "      <th>120</th>\n",
       "      <td>sql</td>\n",
       "    </tr>\n",
       "    <tr>\n",
       "      <th>260</th>\n",
       "      <td>c#</td>\n",
       "    </tr>\n",
       "    <tr>\n",
       "      <th>330</th>\n",
       "      <td>c++</td>\n",
       "    </tr>\n",
       "    <tr>\n",
       "      <th>650</th>\n",
       "      <td>c#</td>\n",
       "    </tr>\n",
       "    <tr>\n",
       "      <th>930</th>\n",
       "      <td>c#</td>\n",
       "    </tr>\n",
       "    <tr>\n",
       "      <th>1010</th>\n",
       "      <td>c#</td>\n",
       "    </tr>\n",
       "    <tr>\n",
       "      <th>1040</th>\n",
       "      <td>c#</td>\n",
       "    </tr>\n",
       "    <tr>\n",
       "      <th>1760</th>\n",
       "      <td>c#</td>\n",
       "    </tr>\n",
       "    <tr>\n",
       "      <th>1970</th>\n",
       "      <td>sql</td>\n",
       "    </tr>\n",
       "    <tr>\n",
       "      <th>2120</th>\n",
       "      <td>sql</td>\n",
       "    </tr>\n",
       "  </tbody>\n",
       "</table>\n",
       "</div>"
      ],
      "text/plain": [
       "      Tag\n",
       "Id       \n",
       "120   sql\n",
       "260    c#\n",
       "330   c++\n",
       "650    c#\n",
       "930    c#\n",
       "1010   c#\n",
       "1040   c#\n",
       "1760   c#\n",
       "1970  sql\n",
       "2120  sql"
      ]
     },
     "execution_count": 6,
     "metadata": {
      "tags": []
     },
     "output_type": "execute_result"
    }
   ],
   "source": [
    "sf_tags.head(10)"
   ]
  },
  {
   "cell_type": "markdown",
   "metadata": {},
   "source": [
    "### Merging the questions with their respective tags into a single dataset"
   ]
  },
  {
   "cell_type": "code",
   "execution_count": 7,
   "metadata": {
    "colab": {
     "base_uri": "https://localhost:8080/",
     "height": 394
    },
    "colab_type": "code",
    "id": "4VRn0uQWVWiI",
    "outputId": "281ddd25-a4d3-429c-9b0f-7064426e728d"
   },
   "outputs": [
    {
     "data": {
      "text/html": [
       "<div>\n",
       "<style scoped>\n",
       "    .dataframe tbody tr th:only-of-type {\n",
       "        vertical-align: middle;\n",
       "    }\n",
       "\n",
       "    .dataframe tbody tr th {\n",
       "        vertical-align: top;\n",
       "    }\n",
       "\n",
       "    .dataframe thead th {\n",
       "        text-align: right;\n",
       "    }\n",
       "</style>\n",
       "<table border=\"1\" class=\"dataframe\">\n",
       "  <thead>\n",
       "    <tr style=\"text-align: right;\">\n",
       "      <th></th>\n",
       "      <th>Title</th>\n",
       "      <th>Body</th>\n",
       "      <th>Tag</th>\n",
       "    </tr>\n",
       "    <tr>\n",
       "      <th>Id</th>\n",
       "      <th></th>\n",
       "      <th></th>\n",
       "      <th></th>\n",
       "    </tr>\n",
       "  </thead>\n",
       "  <tbody>\n",
       "    <tr>\n",
       "      <th>120</th>\n",
       "      <td>ASP.NET Site Maps</td>\n",
       "      <td>&lt;p&gt;Has anyone got experience creating &lt;strong&gt;...</td>\n",
       "      <td>sql</td>\n",
       "    </tr>\n",
       "    <tr>\n",
       "      <th>260</th>\n",
       "      <td>Adding scripting functionality to .NET applica...</td>\n",
       "      <td>&lt;p&gt;I have a little game written in C#. It uses...</td>\n",
       "      <td>c#</td>\n",
       "    </tr>\n",
       "    <tr>\n",
       "      <th>330</th>\n",
       "      <td>Should I use nested classes in this case?</td>\n",
       "      <td>&lt;p&gt;I am working on a collection of classes use...</td>\n",
       "      <td>c++</td>\n",
       "    </tr>\n",
       "    <tr>\n",
       "      <th>650</th>\n",
       "      <td>Automatically update version number</td>\n",
       "      <td>&lt;p&gt;I would like the version property of my app...</td>\n",
       "      <td>c#</td>\n",
       "    </tr>\n",
       "    <tr>\n",
       "      <th>930</th>\n",
       "      <td>How do I connect to a database and loop over a...</td>\n",
       "      <td>&lt;p&gt;What's the simplest way to connect and quer...</td>\n",
       "      <td>c#</td>\n",
       "    </tr>\n",
       "    <tr>\n",
       "      <th>1010</th>\n",
       "      <td>How to get the value of built, encoded ViewState?</td>\n",
       "      <td>&lt;p&gt;I need to grab the base64-encoded represent...</td>\n",
       "      <td>c#</td>\n",
       "    </tr>\n",
       "    <tr>\n",
       "      <th>1040</th>\n",
       "      <td>How do I delete a file which is locked by anot...</td>\n",
       "      <td>&lt;p&gt;I'm looking for a way to delete a file whic...</td>\n",
       "      <td>c#</td>\n",
       "    </tr>\n",
       "    <tr>\n",
       "      <th>1760</th>\n",
       "      <td>.NET Unit Testing packages?</td>\n",
       "      <td>&lt;p&gt;Getting back into a bit more .NET after a f...</td>\n",
       "      <td>c#</td>\n",
       "    </tr>\n",
       "    <tr>\n",
       "      <th>1970</th>\n",
       "      <td>What language do you use for PostgreSQL trigge...</td>\n",
       "      <td>&lt;p&gt;PostgreSQL is interesting in that it suppor...</td>\n",
       "      <td>sql</td>\n",
       "    </tr>\n",
       "    <tr>\n",
       "      <th>2120</th>\n",
       "      <td>Convert HashBytes to VarChar</td>\n",
       "      <td>&lt;p&gt;I want to get the MD5 Hash of a string valu...</td>\n",
       "      <td>sql</td>\n",
       "    </tr>\n",
       "  </tbody>\n",
       "</table>\n",
       "</div>"
      ],
      "text/plain": [
       "                                                  Title  ...  Tag\n",
       "Id                                                       ...     \n",
       "120                                   ASP.NET Site Maps  ...  sql\n",
       "260   Adding scripting functionality to .NET applica...  ...   c#\n",
       "330           Should I use nested classes in this case?  ...  c++\n",
       "650                 Automatically update version number  ...   c#\n",
       "930   How do I connect to a database and loop over a...  ...   c#\n",
       "1010  How to get the value of built, encoded ViewState?  ...   c#\n",
       "1040  How do I delete a file which is locked by anot...  ...   c#\n",
       "1760                        .NET Unit Testing packages?  ...   c#\n",
       "1970  What language do you use for PostgreSQL trigge...  ...  sql\n",
       "2120                       Convert HashBytes to VarChar  ...  sql\n",
       "\n",
       "[10 rows x 3 columns]"
      ]
     },
     "execution_count": 7,
     "metadata": {
      "tags": []
     },
     "output_type": "execute_result"
    }
   ],
   "source": [
    "col_merged = pd.concat([sf_qstn[['Title','Body']], sf_tags[['Tag']]], axis=1)\n",
    "col_merged.head(10)"
   ]
  },
  {
   "cell_type": "markdown",
   "metadata": {},
   "source": [
    "### This step include two steps :-\n",
    "i) Truncate the combined dataset into 10000 or less datapoints per language\n",
    "\n",
    "ii) Convert the target values into One-hot Encoding of their respective language"
   ]
  },
  {
   "cell_type": "code",
   "execution_count": 8,
   "metadata": {
    "colab": {},
    "colab_type": "code",
    "id": "E4PfEU4hVZGT"
   },
   "outputs": [],
   "source": [
    "data=[]\n",
    "for i in lang:\n",
    "  is_lan = col_merged['Tag'] == i\n",
    "  store = col_merged[is_lan]\n",
    "  if(store.shape[0]>10000):\n",
    "    store = store.iloc[:10000,]\n",
    "  for j in range(store.shape[0]):\n",
    "    data.append(store.iloc[j])\n",
    "\n",
    "\n",
    "data = pd.DataFrame(data)\n",
    "data = data.sample(frac=1).reset_index(drop=True)\n",
    "data.columns=['Title','Body','Tag']\n",
    "tag_count = data['Tag'].value_counts().to_dict()\n",
    "data['Questions']=data['Title'] + data['Body']\n",
    "data['Tag'] = data['Tag'].apply(lambda x: lang_index[x])\n",
    "data['Tag']=data['Tag'].apply(lambda x: to_categorical(x,num_classes=16))"
   ]
  },
  {
   "cell_type": "code",
   "execution_count": 9,
   "metadata": {
    "colab": {
     "base_uri": "https://localhost:8080/",
     "height": 308
    },
    "colab_type": "code",
    "id": "I2lRBspDVcKG",
    "outputId": "f0aae3e8-945b-48a1-a760-379d0d98ff5c"
   },
   "outputs": [
    {
     "data": {
      "text/plain": [
       "{'c': 10000,\n",
       " 'c#': 10000,\n",
       " 'c++': 10000,\n",
       " 'html': 10000,\n",
       " 'java': 10000,\n",
       " 'javascript': 10000,\n",
       " 'objective-c': 10000,\n",
       " 'php': 10000,\n",
       " 'python': 10000,\n",
       " 'r': 10000,\n",
       " 'ruby': 10000,\n",
       " 'scala': 5101,\n",
       " 'shell': 4125,\n",
       " 'sql': 10000,\n",
       " 'swift': 10000,\n",
       " 'vba': 6442}"
      ]
     },
     "execution_count": 9,
     "metadata": {
      "tags": []
     },
     "output_type": "execute_result"
    }
   ],
   "source": [
    "tag_count"
   ]
  },
  {
   "cell_type": "code",
   "execution_count": 10,
   "metadata": {
    "colab": {},
    "colab_type": "code",
    "id": "-YrC0LW_nakg"
   },
   "outputs": [],
   "source": [
    "from nltk import word_tokenize\n",
    "def remove_html_tags(text):\n",
    "  \"\"\"Remove html tags from a string\"\"\"\n",
    "  clean = re.compile('<.*?>')\n",
    "  return re.sub(clean, '', text)\n",
    "\n",
    "def expand_contractions(text):\n",
    "  from contractions import  contractions_dict\n",
    "  pattern = re.compile(\"({})\".format(\"|\".join( contractions_dict.keys())),flags = re.DOTALL| re.IGNORECASE)\n",
    "    \n",
    "  def replace_text(t):\n",
    "    txt = t.group(0)\n",
    "    if txt.lower() in  contractions_dict.keys():\n",
    "      return  contractions_dict[txt.lower()]\n",
    "        \n",
    "  expand_text = pattern.sub(replace_text,text)\n",
    "  return expand_text \n",
    "\n",
    "def clean_text(text):\n",
    "  filters = '!\"$%&\\'()*,-./:;<=>?@[\\\\]^_`{|}~0123456789'\n",
    "  text = \"\".join([word for word in text if word not in filters])\n",
    "  stop_wor = nltk.corpus.stopwords.words('english')\n",
    "  text = [word for word in word_tokenize(text) if word not in stop_wor]\n",
    "  wn = nltk.WordNetLemmatizer()\n",
    "  text = [wn.lemmatize(word) for word in text]\n",
    "  return text"
   ]
  },
  {
   "cell_type": "markdown",
   "metadata": {},
   "source": [
    "### Pre-processing the dataset\n",
    "i) Remove the HTML tags from the text corpus\n",
    "\n",
    "ii) Expanding all cotractions in the text corpus\n",
    "\n",
    "iii) Clean the text corpus by removing all punctuations, stop words and them doing lemmatization on the corpus"
   ]
  },
  {
   "cell_type": "code",
   "execution_count": 11,
   "metadata": {
    "colab": {},
    "colab_type": "code",
    "id": "GtRuTGVQnygg"
   },
   "outputs": [],
   "source": [
    "data['Questions']=data['Questions'].apply(lambda x: remove_html_tags(x.lower()))\n",
    "data['Questions']=data['Questions'].apply(lambda x: expand_contractions(x))\n",
    "data['Questions']=data['Questions'].apply(lambda x: clean_text(x))"
   ]
  },
  {
   "cell_type": "markdown",
   "metadata": {},
   "source": [
    "### Preparing the training dataset\n",
    "\n",
    "Using Tokenizer to convert words to vectors"
   ]
  },
  {
   "cell_type": "code",
   "execution_count": 12,
   "metadata": {
    "colab": {},
    "colab_type": "code",
    "id": "7ehWED6VFDjV"
   },
   "outputs": [],
   "source": [
    "size= 121134\n",
    "tokenizer = Tokenizer(num_words = None,oov_token=\"<OOV>\",filters='')\n",
    "tokenizer.fit_on_texts(data['Questions'][:size])\n",
    "word_index = tokenizer.word_index\n",
    "sequences_train = tokenizer.texts_to_sequences(data['Questions'][:size])\n",
    "sequences_train = np.array(sequences_train)\n",
    "sequences_train = pad_sequences(sequences_train, maxlen=76, padding=\"pre\", truncating=\"post\")\n",
    "\n",
    "x_train = sequences_train\n",
    "y_train = np.array(data['Tag'][:size])\n",
    "y_train = np.stack( y_train, axis=0 )"
   ]
  },
  {
   "cell_type": "markdown",
   "metadata": {},
   "source": [
    "### Preparaing the weight matrix of embedding layer"
   ]
  },
  {
   "cell_type": "code",
   "execution_count": 13,
   "metadata": {
    "colab": {
     "base_uri": "https://localhost:8080/",
     "height": 35
    },
    "colab_type": "code",
    "id": "jh3O6V21ITtT",
    "outputId": "69dd58da-53e1-42a8-83c5-2ce72a07045c"
   },
   "outputs": [
    {
     "name": "stdout",
     "output_type": "stream",
     "text": [
      "Loaded 400000 word vectors.\n"
     ]
    }
   ],
   "source": [
    "size_of_vocabulary = len(word_index) + 1\n",
    "embeddings_index = dict()\n",
    "f = open(r'glove.6B.300d.txt',encoding=\"utf8\")\n",
    "\n",
    "for line in f:\n",
    "  values = line.split()\n",
    "  word = values[0]\n",
    "  coefs = np.asarray(values[1:], dtype='float32')\n",
    "  embeddings_index[word] = coefs\n",
    "\n",
    "f.close()\n",
    "print('Loaded %s word vectors.' % len(embeddings_index))\n",
    "\n",
    "embedding_matrix = np.zeros((size_of_vocabulary, 300))\n",
    "\n",
    "for word, i in tokenizer.word_index.items():\n",
    "  embedding_vector = embeddings_index.get(word)\n",
    "  if embedding_vector is not None:\n",
    "      embedding_matrix[i] = embedding_vector"
   ]
  },
  {
   "cell_type": "markdown",
   "metadata": {},
   "source": [
    "### Initializing the model\n",
    "We are using :-\n",
    "\n",
    "i) Sequential model with one non trainable embedding layer, three LSTM layers and one dense layers\n",
    "\n",
    "ii) Dropout to prevent overfitting"
   ]
  },
  {
   "cell_type": "code",
   "execution_count": 14,
   "metadata": {
    "colab": {},
    "colab_type": "code",
    "id": "ew-4Gz_cHFfG"
   },
   "outputs": [],
   "source": [
    "model = Sequential()\n",
    "model.add(Embedding(size_of_vocabulary,300,weights=[embedding_matrix],input_length=76,trainable=False))\n",
    "model.add(LSTM(64,return_sequences=True,dropout=0.5))\n",
    "model.add(LSTM(64,return_sequences=True,dropout=0.5))\n",
    "model.add(LSTM(64,dropout=0.5))\n",
    "model.add(Dense(16,activation='softmax'))"
   ]
  },
  {
   "cell_type": "markdown",
   "metadata": {},
   "source": [
    "### Compiling the model\n",
    "We are using categorical cross entropy loss function and categorical accuracy for metrics evalation with adam optimizer"
   ]
  },
  {
   "cell_type": "code",
   "execution_count": 15,
   "metadata": {
    "colab": {},
    "colab_type": "code",
    "id": "3J7ZeI-xFNTT"
   },
   "outputs": [],
   "source": [
    "model.compile(loss='categorical_crossentropy',optimizer='adam',metrics = [metrics.CategoricalAccuracy()])"
   ]
  },
  {
   "cell_type": "markdown",
   "metadata": {},
   "source": [
    "### Fitting model"
   ]
  },
  {
   "cell_type": "code",
   "execution_count": 16,
   "metadata": {
    "colab": {
     "base_uri": "https://localhost:8080/",
     "height": 1000
    },
    "colab_type": "code",
    "id": "SrzC52XkFQQf",
    "outputId": "3c81c445-fbdd-4805-b5e3-8c4b38965254"
   },
   "outputs": [
    {
     "name": "stdout",
     "output_type": "stream",
     "text": [
      "Epoch 1/100\n",
      "95/95 [==============================] - 17s 174ms/step - loss: 2.1893 - categorical_accuracy: 0.3003 - val_loss: 1.6030 - val_categorical_accuracy: 0.5007\n",
      "Epoch 2/100\n",
      "95/95 [==============================] - 15s 157ms/step - loss: 1.5258 - categorical_accuracy: 0.5317 - val_loss: 1.2207 - val_categorical_accuracy: 0.6288\n",
      "Epoch 3/100\n",
      "95/95 [==============================] - 15s 160ms/step - loss: 1.2489 - categorical_accuracy: 0.6250 - val_loss: 1.0659 - val_categorical_accuracy: 0.6869\n",
      "Epoch 4/100\n",
      "95/95 [==============================] - 15s 160ms/step - loss: 1.1103 - categorical_accuracy: 0.6664 - val_loss: 0.9744 - val_categorical_accuracy: 0.7102\n",
      "Epoch 5/100\n",
      "95/95 [==============================] - 15s 158ms/step - loss: 1.0300 - categorical_accuracy: 0.6895 - val_loss: 0.9039 - val_categorical_accuracy: 0.7296\n",
      "Epoch 6/100\n",
      "95/95 [==============================] - 15s 161ms/step - loss: 0.9729 - categorical_accuracy: 0.7068 - val_loss: 0.8663 - val_categorical_accuracy: 0.7405\n",
      "Epoch 7/100\n",
      "95/95 [==============================] - 15s 160ms/step - loss: 0.9239 - categorical_accuracy: 0.7227 - val_loss: 0.8455 - val_categorical_accuracy: 0.7443\n",
      "Epoch 8/100\n",
      "95/95 [==============================] - 16s 163ms/step - loss: 0.8842 - categorical_accuracy: 0.7322 - val_loss: 0.8184 - val_categorical_accuracy: 0.7535\n",
      "Epoch 9/100\n",
      "95/95 [==============================] - 16s 165ms/step - loss: 0.8567 - categorical_accuracy: 0.7401 - val_loss: 0.7982 - val_categorical_accuracy: 0.7594\n",
      "Epoch 10/100\n",
      "95/95 [==============================] - 16s 165ms/step - loss: 0.8320 - categorical_accuracy: 0.7456 - val_loss: 0.7791 - val_categorical_accuracy: 0.7615\n",
      "Epoch 11/100\n",
      "95/95 [==============================] - 16s 164ms/step - loss: 0.8085 - categorical_accuracy: 0.7526 - val_loss: 0.7459 - val_categorical_accuracy: 0.7741\n",
      "Epoch 12/100\n",
      "95/95 [==============================] - 16s 164ms/step - loss: 0.7924 - categorical_accuracy: 0.7575 - val_loss: 0.7437 - val_categorical_accuracy: 0.7757\n",
      "Epoch 13/100\n",
      "95/95 [==============================] - 16s 163ms/step - loss: 0.7732 - categorical_accuracy: 0.7635 - val_loss: 0.7323 - val_categorical_accuracy: 0.7768\n",
      "Epoch 14/100\n",
      "95/95 [==============================] - 15s 161ms/step - loss: 0.7588 - categorical_accuracy: 0.7671 - val_loss: 0.7100 - val_categorical_accuracy: 0.7825\n",
      "Epoch 15/100\n",
      "95/95 [==============================] - 16s 168ms/step - loss: 0.7437 - categorical_accuracy: 0.7707 - val_loss: 0.7039 - val_categorical_accuracy: 0.7855\n",
      "Epoch 16/100\n",
      "95/95 [==============================] - 16s 165ms/step - loss: 0.7328 - categorical_accuracy: 0.7744 - val_loss: 0.7071 - val_categorical_accuracy: 0.7847\n",
      "Epoch 17/100\n",
      "95/95 [==============================] - 16s 165ms/step - loss: 0.7218 - categorical_accuracy: 0.7766 - val_loss: 0.6909 - val_categorical_accuracy: 0.7896\n",
      "Epoch 18/100\n",
      "95/95 [==============================] - 16s 167ms/step - loss: 0.7153 - categorical_accuracy: 0.7772 - val_loss: 0.6842 - val_categorical_accuracy: 0.7915\n",
      "Epoch 19/100\n",
      "95/95 [==============================] - 16s 171ms/step - loss: 0.7023 - categorical_accuracy: 0.7805 - val_loss: 0.6795 - val_categorical_accuracy: 0.7911\n",
      "Epoch 20/100\n",
      "95/95 [==============================] - 16s 167ms/step - loss: 0.6926 - categorical_accuracy: 0.7841 - val_loss: 0.6718 - val_categorical_accuracy: 0.7912\n",
      "Epoch 21/100\n",
      "95/95 [==============================] - 16s 164ms/step - loss: 0.6879 - categorical_accuracy: 0.7864 - val_loss: 0.6721 - val_categorical_accuracy: 0.7932\n",
      "Epoch 22/100\n",
      "95/95 [==============================] - 15s 162ms/step - loss: 0.6766 - categorical_accuracy: 0.7882 - val_loss: 0.6599 - val_categorical_accuracy: 0.7964\n",
      "Epoch 23/100\n",
      "95/95 [==============================] - 15s 158ms/step - loss: 0.6720 - categorical_accuracy: 0.7895 - val_loss: 0.6619 - val_categorical_accuracy: 0.7969\n",
      "Epoch 24/100\n",
      "95/95 [==============================] - 15s 159ms/step - loss: 0.6646 - categorical_accuracy: 0.7923 - val_loss: 0.6570 - val_categorical_accuracy: 0.7963\n",
      "Epoch 25/100\n",
      "95/95 [==============================] - 15s 159ms/step - loss: 0.6588 - categorical_accuracy: 0.7927 - val_loss: 0.6495 - val_categorical_accuracy: 0.8004\n",
      "Epoch 26/100\n",
      "95/95 [==============================] - 15s 158ms/step - loss: 0.6543 - categorical_accuracy: 0.7943 - val_loss: 0.6499 - val_categorical_accuracy: 0.7993\n",
      "Epoch 27/100\n",
      "95/95 [==============================] - 15s 156ms/step - loss: 0.6488 - categorical_accuracy: 0.7953 - val_loss: 0.6483 - val_categorical_accuracy: 0.7999\n",
      "Epoch 28/100\n",
      "95/95 [==============================] - 15s 158ms/step - loss: 0.6424 - categorical_accuracy: 0.7971 - val_loss: 0.6408 - val_categorical_accuracy: 0.8006\n",
      "Epoch 29/100\n",
      "95/95 [==============================] - 15s 158ms/step - loss: 0.6389 - categorical_accuracy: 0.7992 - val_loss: 0.6376 - val_categorical_accuracy: 0.8021\n",
      "Epoch 30/100\n",
      "95/95 [==============================] - 15s 156ms/step - loss: 0.6330 - categorical_accuracy: 0.8007 - val_loss: 0.6556 - val_categorical_accuracy: 0.7991\n",
      "Epoch 31/100\n",
      "95/95 [==============================] - 15s 156ms/step - loss: 0.6268 - categorical_accuracy: 0.8029 - val_loss: 0.6407 - val_categorical_accuracy: 0.8009\n",
      "Epoch 32/100\n",
      "95/95 [==============================] - 15s 155ms/step - loss: 0.6234 - categorical_accuracy: 0.8023 - val_loss: 0.6360 - val_categorical_accuracy: 0.8018\n",
      "Epoch 33/100\n",
      "95/95 [==============================] - 15s 156ms/step - loss: 0.6222 - categorical_accuracy: 0.8030 - val_loss: 0.6377 - val_categorical_accuracy: 0.8024\n",
      "Epoch 34/100\n",
      "95/95 [==============================] - 15s 156ms/step - loss: 0.6139 - categorical_accuracy: 0.8060 - val_loss: 0.6302 - val_categorical_accuracy: 0.8057\n",
      "Epoch 35/100\n",
      "95/95 [==============================] - 15s 157ms/step - loss: 0.6150 - categorical_accuracy: 0.8058 - val_loss: 0.6253 - val_categorical_accuracy: 0.8070\n",
      "Epoch 36/100\n",
      "95/95 [==============================] - 15s 159ms/step - loss: 0.6050 - categorical_accuracy: 0.8090 - val_loss: 0.6271 - val_categorical_accuracy: 0.8062\n",
      "Epoch 37/100\n",
      "95/95 [==============================] - 15s 158ms/step - loss: 0.6019 - categorical_accuracy: 0.8087 - val_loss: 0.6288 - val_categorical_accuracy: 0.8052\n",
      "Epoch 38/100\n",
      "95/95 [==============================] - 15s 157ms/step - loss: 0.5999 - categorical_accuracy: 0.8093 - val_loss: 0.6229 - val_categorical_accuracy: 0.8067\n",
      "Epoch 39/100\n",
      "95/95 [==============================] - 15s 160ms/step - loss: 0.5971 - categorical_accuracy: 0.8104 - val_loss: 0.6384 - val_categorical_accuracy: 0.8018\n",
      "Epoch 40/100\n",
      "95/95 [==============================] - 15s 159ms/step - loss: 0.5940 - categorical_accuracy: 0.8118 - val_loss: 0.6196 - val_categorical_accuracy: 0.8071\n",
      "Epoch 41/100\n",
      "95/95 [==============================] - 16s 164ms/step - loss: 0.5911 - categorical_accuracy: 0.8122 - val_loss: 0.6221 - val_categorical_accuracy: 0.8069\n",
      "Epoch 42/100\n",
      "95/95 [==============================] - 15s 163ms/step - loss: 0.5872 - categorical_accuracy: 0.8135 - val_loss: 0.6206 - val_categorical_accuracy: 0.8078\n",
      "Epoch 43/100\n",
      "95/95 [==============================] - 16s 164ms/step - loss: 0.5853 - categorical_accuracy: 0.8135 - val_loss: 0.6192 - val_categorical_accuracy: 0.8075\n",
      "Epoch 44/100\n",
      "95/95 [==============================] - 16s 166ms/step - loss: 0.5816 - categorical_accuracy: 0.8136 - val_loss: 0.6179 - val_categorical_accuracy: 0.8081\n",
      "Epoch 45/100\n",
      "95/95 [==============================] - 16s 164ms/step - loss: 0.5799 - categorical_accuracy: 0.8154 - val_loss: 0.6091 - val_categorical_accuracy: 0.8100\n",
      "Epoch 46/100\n",
      "95/95 [==============================] - 16s 163ms/step - loss: 0.5791 - categorical_accuracy: 0.8152 - val_loss: 0.6183 - val_categorical_accuracy: 0.8084\n",
      "Epoch 47/100\n",
      "95/95 [==============================] - 15s 163ms/step - loss: 0.5728 - categorical_accuracy: 0.8158 - val_loss: 0.6264 - val_categorical_accuracy: 0.8083\n",
      "Epoch 48/100\n",
      "95/95 [==============================] - 16s 166ms/step - loss: 0.5752 - categorical_accuracy: 0.8159 - val_loss: 0.6090 - val_categorical_accuracy: 0.8105\n",
      "Epoch 49/100\n",
      "95/95 [==============================] - 16s 167ms/step - loss: 0.5699 - categorical_accuracy: 0.8181 - val_loss: 0.6155 - val_categorical_accuracy: 0.8101\n",
      "Epoch 50/100\n",
      "95/95 [==============================] - 17s 179ms/step - loss: 0.5707 - categorical_accuracy: 0.8179 - val_loss: 0.6152 - val_categorical_accuracy: 0.8105\n",
      "Epoch 51/100\n",
      "95/95 [==============================] - 16s 166ms/step - loss: 0.5660 - categorical_accuracy: 0.8193 - val_loss: 0.6136 - val_categorical_accuracy: 0.8101\n",
      "Epoch 52/100\n",
      "95/95 [==============================] - 16s 167ms/step - loss: 0.5688 - categorical_accuracy: 0.8174 - val_loss: 0.6072 - val_categorical_accuracy: 0.8118\n",
      "Epoch 53/100\n",
      "95/95 [==============================] - 15s 162ms/step - loss: 0.5628 - categorical_accuracy: 0.8192 - val_loss: 0.6162 - val_categorical_accuracy: 0.8104\n",
      "Epoch 54/100\n",
      "95/95 [==============================] - 15s 159ms/step - loss: 0.5650 - categorical_accuracy: 0.8186 - val_loss: 0.6067 - val_categorical_accuracy: 0.8122\n",
      "Epoch 55/100\n",
      "95/95 [==============================] - 15s 158ms/step - loss: 0.5620 - categorical_accuracy: 0.8197 - val_loss: 0.6180 - val_categorical_accuracy: 0.8106\n",
      "Epoch 56/100\n",
      "95/95 [==============================] - 15s 159ms/step - loss: 0.5572 - categorical_accuracy: 0.8209 - val_loss: 0.6074 - val_categorical_accuracy: 0.8134\n",
      "Epoch 57/100\n",
      "95/95 [==============================] - 15s 157ms/step - loss: 0.5556 - categorical_accuracy: 0.8215 - val_loss: 0.6140 - val_categorical_accuracy: 0.8126\n",
      "Epoch 58/100\n",
      "95/95 [==============================] - 15s 158ms/step - loss: 0.5569 - categorical_accuracy: 0.8217 - val_loss: 0.6130 - val_categorical_accuracy: 0.8124\n",
      "Epoch 59/100\n",
      "95/95 [==============================] - 15s 156ms/step - loss: 0.5542 - categorical_accuracy: 0.8213 - val_loss: 0.6132 - val_categorical_accuracy: 0.8131\n",
      "Epoch 60/100\n",
      "95/95 [==============================] - 15s 156ms/step - loss: 0.5487 - categorical_accuracy: 0.8238 - val_loss: 0.6166 - val_categorical_accuracy: 0.8098\n",
      "Epoch 61/100\n",
      "95/95 [==============================] - 15s 156ms/step - loss: 0.5467 - categorical_accuracy: 0.8231 - val_loss: 0.6094 - val_categorical_accuracy: 0.8126\n",
      "Epoch 62/100\n",
      "95/95 [==============================] - 15s 156ms/step - loss: 0.5483 - categorical_accuracy: 0.8242 - val_loss: 0.6044 - val_categorical_accuracy: 0.8124\n",
      "Epoch 63/100\n",
      "95/95 [==============================] - 15s 157ms/step - loss: 0.5446 - categorical_accuracy: 0.8236 - val_loss: 0.6103 - val_categorical_accuracy: 0.8137\n",
      "Epoch 64/100\n",
      "95/95 [==============================] - 15s 156ms/step - loss: 0.5463 - categorical_accuracy: 0.8230 - val_loss: 0.6117 - val_categorical_accuracy: 0.8129\n",
      "Epoch 65/100\n",
      "95/95 [==============================] - 15s 157ms/step - loss: 0.5442 - categorical_accuracy: 0.8232 - val_loss: 0.6080 - val_categorical_accuracy: 0.8131\n",
      "Epoch 66/100\n",
      "95/95 [==============================] - 15s 158ms/step - loss: 0.5415 - categorical_accuracy: 0.8242 - val_loss: 0.5994 - val_categorical_accuracy: 0.8141\n",
      "Epoch 67/100\n",
      "95/95 [==============================] - 15s 156ms/step - loss: 0.5389 - categorical_accuracy: 0.8251 - val_loss: 0.6006 - val_categorical_accuracy: 0.8143\n",
      "Epoch 68/100\n",
      "95/95 [==============================] - 15s 160ms/step - loss: 0.5408 - categorical_accuracy: 0.8271 - val_loss: 0.6022 - val_categorical_accuracy: 0.8135\n",
      "Epoch 69/100\n",
      "95/95 [==============================] - 15s 158ms/step - loss: 0.5378 - categorical_accuracy: 0.8259 - val_loss: 0.6071 - val_categorical_accuracy: 0.8124\n",
      "Epoch 70/100\n",
      "95/95 [==============================] - 15s 155ms/step - loss: 0.5364 - categorical_accuracy: 0.8258 - val_loss: 0.6016 - val_categorical_accuracy: 0.8131\n",
      "Epoch 71/100\n",
      "95/95 [==============================] - 15s 156ms/step - loss: 0.5323 - categorical_accuracy: 0.8286 - val_loss: 0.6038 - val_categorical_accuracy: 0.8155\n",
      "Epoch 72/100\n",
      "95/95 [==============================] - 15s 162ms/step - loss: 0.5333 - categorical_accuracy: 0.8268 - val_loss: 0.6034 - val_categorical_accuracy: 0.8157\n",
      "Epoch 73/100\n",
      "95/95 [==============================] - 15s 161ms/step - loss: 0.5341 - categorical_accuracy: 0.8272 - val_loss: 0.6120 - val_categorical_accuracy: 0.8117\n",
      "Epoch 74/100\n",
      "95/95 [==============================] - 15s 161ms/step - loss: 0.5324 - categorical_accuracy: 0.8279 - val_loss: 0.5977 - val_categorical_accuracy: 0.8154\n",
      "Epoch 75/100\n",
      "95/95 [==============================] - 16s 166ms/step - loss: 0.5309 - categorical_accuracy: 0.8289 - val_loss: 0.6060 - val_categorical_accuracy: 0.8143\n",
      "Epoch 76/100\n",
      "95/95 [==============================] - 15s 163ms/step - loss: 0.5287 - categorical_accuracy: 0.8287 - val_loss: 0.6040 - val_categorical_accuracy: 0.8142\n",
      "Epoch 77/100\n",
      "95/95 [==============================] - 15s 163ms/step - loss: 0.5294 - categorical_accuracy: 0.8297 - val_loss: 0.6028 - val_categorical_accuracy: 0.8149\n",
      "Epoch 78/100\n",
      "95/95 [==============================] - 16s 165ms/step - loss: 0.5261 - categorical_accuracy: 0.8293 - val_loss: 0.6106 - val_categorical_accuracy: 0.8133\n",
      "Epoch 79/100\n",
      "95/95 [==============================] - 16s 171ms/step - loss: 0.5260 - categorical_accuracy: 0.8300 - val_loss: 0.5995 - val_categorical_accuracy: 0.8145\n",
      "Epoch 80/100\n",
      "95/95 [==============================] - 17s 182ms/step - loss: 0.5240 - categorical_accuracy: 0.8297 - val_loss: 0.6015 - val_categorical_accuracy: 0.8150\n",
      "Epoch 81/100\n",
      "95/95 [==============================] - 16s 164ms/step - loss: 0.5228 - categorical_accuracy: 0.8307 - val_loss: 0.6028 - val_categorical_accuracy: 0.8144\n",
      "Epoch 82/100\n",
      "95/95 [==============================] - 15s 158ms/step - loss: 0.5259 - categorical_accuracy: 0.8298 - val_loss: 0.6042 - val_categorical_accuracy: 0.8133\n",
      "Epoch 83/100\n",
      "95/95 [==============================] - 15s 156ms/step - loss: 0.5223 - categorical_accuracy: 0.8301 - val_loss: 0.6002 - val_categorical_accuracy: 0.8134\n",
      "Epoch 84/100\n",
      "95/95 [==============================] - 15s 156ms/step - loss: 0.5187 - categorical_accuracy: 0.8323 - val_loss: 0.6016 - val_categorical_accuracy: 0.8173\n",
      "Epoch 85/100\n",
      "95/95 [==============================] - 15s 156ms/step - loss: 0.5206 - categorical_accuracy: 0.8309 - val_loss: 0.6042 - val_categorical_accuracy: 0.8148\n",
      "Epoch 86/100\n",
      "95/95 [==============================] - 15s 157ms/step - loss: 0.5174 - categorical_accuracy: 0.8318 - val_loss: 0.6011 - val_categorical_accuracy: 0.8156\n",
      "Epoch 87/100\n",
      "95/95 [==============================] - 15s 158ms/step - loss: 0.5179 - categorical_accuracy: 0.8312 - val_loss: 0.6011 - val_categorical_accuracy: 0.8153\n",
      "Epoch 88/100\n",
      "95/95 [==============================] - 15s 158ms/step - loss: 0.5179 - categorical_accuracy: 0.8309 - val_loss: 0.5974 - val_categorical_accuracy: 0.8163\n",
      "Epoch 89/100\n",
      "95/95 [==============================] - 15s 157ms/step - loss: 0.5152 - categorical_accuracy: 0.8315 - val_loss: 0.6036 - val_categorical_accuracy: 0.8142\n",
      "Epoch 90/100\n",
      "95/95 [==============================] - 15s 158ms/step - loss: 0.5141 - categorical_accuracy: 0.8321 - val_loss: 0.6022 - val_categorical_accuracy: 0.8152\n",
      "Epoch 91/100\n",
      "95/95 [==============================] - 15s 157ms/step - loss: 0.5129 - categorical_accuracy: 0.8329 - val_loss: 0.6041 - val_categorical_accuracy: 0.8155\n",
      "Epoch 92/100\n",
      "95/95 [==============================] - 15s 158ms/step - loss: 0.5127 - categorical_accuracy: 0.8322 - val_loss: 0.5950 - val_categorical_accuracy: 0.8174\n",
      "Epoch 93/100\n",
      "95/95 [==============================] - 15s 158ms/step - loss: 0.5142 - categorical_accuracy: 0.8323 - val_loss: 0.5999 - val_categorical_accuracy: 0.8162\n",
      "Epoch 94/100\n",
      "95/95 [==============================] - 15s 158ms/step - loss: 0.5132 - categorical_accuracy: 0.8330 - val_loss: 0.6004 - val_categorical_accuracy: 0.8154\n",
      "Epoch 95/100\n",
      "95/95 [==============================] - 15s 157ms/step - loss: 0.5104 - categorical_accuracy: 0.8330 - val_loss: 0.6022 - val_categorical_accuracy: 0.8159\n",
      "Epoch 96/100\n",
      "95/95 [==============================] - 15s 158ms/step - loss: 0.5094 - categorical_accuracy: 0.8346 - val_loss: 0.6055 - val_categorical_accuracy: 0.8140\n",
      "Epoch 97/100\n",
      "95/95 [==============================] - 15s 157ms/step - loss: 0.5105 - categorical_accuracy: 0.8330 - val_loss: 0.5998 - val_categorical_accuracy: 0.8156\n",
      "Epoch 98/100\n",
      "95/95 [==============================] - 15s 159ms/step - loss: 0.5086 - categorical_accuracy: 0.8340 - val_loss: 0.6048 - val_categorical_accuracy: 0.8148\n",
      "Epoch 99/100\n",
      "95/95 [==============================] - 15s 159ms/step - loss: 0.5058 - categorical_accuracy: 0.8347 - val_loss: 0.6035 - val_categorical_accuracy: 0.8145\n",
      "Epoch 100/100\n",
      "95/95 [==============================] - 15s 157ms/step - loss: 0.5079 - categorical_accuracy: 0.8339 - val_loss: 0.5941 - val_categorical_accuracy: 0.8174\n"
     ]
    },
    {
     "data": {
      "image/png": "[encoded data removed]",
      "text/plain": [
       "<Figure size 432x288 with 1 Axes>"
      ]
     },
     "metadata": {
      "needs_background": "light",
      "tags": []
     },
     "output_type": "display_data"
    }
   ],
   "source": [
    "history = model.fit(x_train,y_train,epochs=100,batch_size=1024,validation_split=0.2)\n",
    "pyplot.plot(history.history['loss'], label='train')\n",
    "pyplot.plot(history.history['val_loss'], label='validation')\n",
    "pyplot.legend()\n",
    "pyplot.show()"
   ]
  },
  {
   "cell_type": "code",
   "execution_count": 17,
   "metadata": {
    "colab": {
     "base_uri": "https://localhost:8080/",
     "height": 265
    },
    "colab_type": "code",
    "id": "KhV-INlomkMX",
    "outputId": "de05e381-771d-4772-d5b7-8735e6520192"
   },
   "outputs": [
    {
     "data": {
      "image/png": "[encoded data removed]",
      "text/plain": [
       "<Figure size 432x288 with 1 Axes>"
      ]
     },
     "metadata": {
      "needs_background": "light",
      "tags": []
     },
     "output_type": "display_data"
    }
   ],
   "source": [
    "pyplot.plot(history.history['categorical_accuracy'], label='train')\n",
    "pyplot.plot(history.history['val_categorical_accuracy'], label='validation')\n",
    "pyplot.legend()\n",
    "pyplot.show()"
   ]
  },
  {
   "cell_type": "markdown",
   "metadata": {},
   "source": [
    "### Preparing the test dataset"
   ]
  },
  {
   "cell_type": "code",
   "execution_count": 18,
   "metadata": {
    "colab": {},
    "colab_type": "code",
    "id": "eVMDK76RXWQJ"
   },
   "outputs": [],
   "source": [
    "sequences_test = tokenizer.texts_to_sequences(data['Questions'][size:])\n",
    "sequences_test = np.array(sequences_test)\n",
    "sequences_test = pad_sequences(sequences_test, maxlen=76, padding=\"pre\", truncating=\"post\")\n",
    "\n",
    "x_test = sequences_test\n",
    "y_test = np.array(data['Tag'][size:])\n",
    "y_test= np.stack( y_test, axis=0 )"
   ]
  },
  {
   "cell_type": "markdown",
   "metadata": {},
   "source": [
    "### Evaluating the performance of our trained model on test set"
   ]
  },
  {
   "cell_type": "code",
   "execution_count": 19,
   "metadata": {
    "colab": {
     "base_uri": "https://localhost:8080/",
     "height": 53
    },
    "colab_type": "code",
    "id": "AawVpicFR35q",
    "outputId": "ff6051d2-6dc4-4005-efa0-c967b333981b"
   },
   "outputs": [
    {
     "name": "stdout",
     "output_type": "stream",
     "text": [
      "767/767 [==============================] - 20s 26ms/step - loss: 0.5762 - categorical_accuracy: 0.8235\n"
     ]
    },
    {
     "data": {
      "text/plain": [
       "[0.5762450098991394, 0.8234694600105286]"
      ]
     },
     "execution_count": 19,
     "metadata": {
      "tags": []
     },
     "output_type": "execute_result"
    }
   ],
   "source": [
    "model.evaluate(x_test,y_test)"
   ]
  },
  {
   "cell_type": "markdown",
   "metadata": {},
   "source": [
    "### Plotting Confusion matrix on predicted test set"
   ]
  },
  {
   "cell_type": "code",
   "execution_count": 21,
   "metadata": {
    "colab": {
     "base_uri": "https://localhost:8080/",
     "height": 92
    },
    "colab_type": "code",
    "id": "RNFR4pSRZfxc",
    "outputId": "aeb781e2-512c-496f-9c65-7da3d4d6fa60"
   },
   "outputs": [
    {
     "name": "stdout",
     "output_type": "stream",
     "text": [
      "WARNING:tensorflow:From <ipython-input-21-384dfd5277f0>:1: Sequential.predict_classes (from tensorflow.python.keras.engine.sequential) is deprecated and will be removed after 2021-01-01.\n",
      "Instructions for updating:\n",
      "Please use instead:* `np.argmax(model.predict(x), axis=-1)`,   if your model does multi-class classification   (e.g. if it uses a `softmax` last-layer activation).* `(model.predict(x) > 0.5).astype(\"int32\")`,   if your model does binary classification   (e.g. if it uses a `sigmoid` last-layer activation).\n"
     ]
    }
   ],
   "source": [
    "rounded_predictions = model.predict_classes(x_test)"
   ]
  },
  {
   "cell_type": "code",
   "execution_count": 22,
   "metadata": {
    "colab": {},
    "colab_type": "code",
    "id": "HQgNKJZKYTQ_"
   },
   "outputs": [],
   "source": [
    "cm = confusion_matrix(y_true=np.argmax(y_test,axis=1), y_pred=rounded_predictions)"
   ]
  },
  {
   "cell_type": "code",
   "execution_count": 23,
   "metadata": {
    "colab": {},
    "colab_type": "code",
    "id": "Wki-rpDvYqQu"
   },
   "outputs": [],
   "source": [
    "def plot_confusion_matrix(cm, classes,\n",
    "                        normalize=False,\n",
    "                        title='Confusion matrix',\n",
    "                        cmap=plt.cm.Blues):\n",
    "    \"\"\"\n",
    "    This function prints and plots the confusion matrix.\n",
    "    Normalization can be applied by setting `normalize=True`.\n",
    "    \"\"\"\n",
    "    if normalize:\n",
    "      cm = cm.astype('float') / cm.sum(axis=1)[:, np.newaxis]\n",
    "      cm = np.around(cm,2)\n",
    "      print(\"Normalized confusion matrix\")\n",
    "    else:\n",
    "      print('Confusion matrix, without normalization')\n",
    "\n",
    "    plt.figure(figsize = (13,13))\n",
    "    plt.imshow(cm, interpolation='nearest', cmap=cmap)\n",
    "    plt.title(title)\n",
    "    plt.colorbar()\n",
    "    tick_marks = np.arange(len(classes))\n",
    "    plt.xticks(tick_marks, classes, rotation=45)\n",
    "    plt.yticks(tick_marks, classes)\n",
    "\n",
    "    thresh = cm.max() / 2\n",
    "    for i, j in itertools.product(range(cm.shape[0]), range(cm.shape[1])):\n",
    "        plt.text(j, i, cm[i, j],\n",
    "            horizontalalignment=\"center\",\n",
    "            color=\"white\" if cm[i, j] > thresh else \"black\")\n",
    "    \n",
    "    plt.tight_layout()\n",
    "    plt.ylabel('True label')\n",
    "    plt.xlabel('Predicted label')"
   ]
  },
  {
   "cell_type": "code",
   "execution_count": 24,
   "metadata": {
    "colab": {
     "base_uri": "https://localhost:8080/",
     "height": 963
    },
    "colab_type": "code",
    "id": "U3BfQOx-ZI5L",
    "outputId": "83427ecc-fcc3-4fc2-baf8-f7f025f8a504"
   },
   "outputs": [
    {
     "name": "stdout",
     "output_type": "stream",
     "text": [
      "Normalized confusion matrix\n"
     ]
    },
    {
     "data": {
      "image/png": "[encoded data removed]",
      "text/plain": [
       "<Figure size 936x936 with 2 Axes>"
      ]
     },
     "metadata": {
      "needs_background": "light",
      "tags": []
     },
     "output_type": "display_data"
    }
   ],
   "source": [
    "plot_confusion_matrix(cm=cm, classes=lang, title='Confusion Matrix',normalize=True)"
   ]
  },
  {
   "cell_type": "markdown",
   "metadata": {},
   "source": [
    "### Evaluating performance on random tokens of data"
   ]
  },
  {
   "cell_type": "code",
   "execution_count": 25,
   "metadata": {
    "colab": {},
    "colab_type": "code",
    "id": "LjKDqVf6SP1T"
   },
   "outputs": [],
   "source": [
    "def demo(dem):\n",
    "  reverse_lang_index = dict(map(reversed, lang_index.items()))\n",
    "  demo_s = clean_text(dem)\n",
    "  demo_s = np.array(tokenizer.texts_to_sequences(demo_s))\n",
    "  demo_s = demo_s.reshape((1,demo_s.shape[0]))\n",
    "  demo_s = pad_sequences(demo_s, maxlen=76, padding=\"pre\", truncating=\"post\")\n",
    "  pred = np.around(model.predict(demo_s))\n",
    "  num = np.argmax(pred)\n",
    "  langu_age = reverse_lang_index[num]\n",
    "  return langu_age"
   ]
  },
  {
   "cell_type": "code",
   "execution_count": 26,
   "metadata": {
    "colab": {
     "base_uri": "https://localhost:8080/",
     "height": 36
    },
    "colab_type": "code",
    "id": "RSdAcurIaJ50",
    "outputId": "591c46a7-6444-4ac5-8751-913aacea8bd7"
   },
   "outputs": [
    {
     "data": {
      "application/vnd.google.colaboratory.intrinsic+json": {
       "type": "string"
      },
      "text/plain": [
       "'python'"
      ]
     },
     "execution_count": 26,
     "metadata": {
      "tags": []
     },
     "output_type": "execute_result"
    }
   ],
   "source": [
    "demo('How to pause and resume a while loop in Python ? I want to have a loop running that will print \"Hello\" and when I press \"K\" it stops printing but it does not end the program, then when I press \"K\" again it starts printing again.')"
   ]
  },
  {
   "cell_type": "code",
   "execution_count": null,
   "metadata": {
    "colab": {},
    "colab_type": "code",
    "id": "m0-rScIlzWmr"
   },
   "outputs": [],
   "source": []
  }
 ],
 "metadata": {
  "accelerator": "GPU",
  "colab": {
   "collapsed_sections": [],
   "name": "Untitled5.ipynb",
   "provenance": []
  },
  "kernelspec": {
   "display_name": "Python 3",
   "language": "python",
   "name": "python3"
  },
  "language_info": {
   "codemirror_mode": {
    "name": "ipython",
    "version": 3
   },
   "file_extension": ".py",
   "mimetype": "text/x-python",
   "name": "python",
   "nbconvert_exporter": "python",
   "pygments_lexer": "ipython3",
   "version": "3.7.6"
  }
 },
 "nbformat": 4,
 "nbformat_minor": 1
}
