{
 "cells": [
  {
   "cell_type": "code",
   "execution_count": 1,
   "metadata": {
    "colab": {
     "base_uri": "https://localhost:8080/",
     "height": 163
    },
    "colab_type": "code",
    "id": "VF37uw14eajW",
    "outputId": "6b8eaa4c-1a18-4e6a-b90e-ce89defdaa27"
   },
   "outputs": [
    {
     "name": "stdout",
     "output_type": "stream",
     "text": [
      "Warning: Your Kaggle API key is readable by other users on this system! To fix this, you can run 'chmod 600 /root/.kaggle/kaggle.json'\n",
      "Downloading stacksample.zip to /content\n",
      "100% 1.10G/1.11G [00:21<00:00, 57.3MB/s]\n",
      "100% 1.11G/1.11G [00:21<00:00, 55.9MB/s]\n",
      "Archive:  stacksample.zip\n",
      "  inflating: Answers.csv             \n",
      "  inflating: Questions.csv           \n",
      "  inflating: Tags.csv                \n"
     ]
    }
   ],
   "source": [
    "!pip install -q kaggle\n",
    "\n",
    "!mkdir -p ~/.kaggle\n",
    "!cp kaggle.json ~/.kaggle/\n",
    "\n",
    "!kaggle datasets download -d stackoverflow/stacksample\n",
    "\n",
    "!unzip stacksample.zip"
   ]
  },
  {
   "cell_type": "code",
   "execution_count": 2,
   "metadata": {
    "colab": {
     "base_uri": "https://localhost:8080/",
     "height": 381
    },
    "colab_type": "code",
    "id": "kDMfMZUzyjg9",
    "outputId": "1c049442-8f39-43a4-cabd-e9b21a90b9c0",
    "scrolled": true
   },
   "outputs": [
    {
     "name": "stdout",
     "output_type": "stream",
     "text": [
      "--2020-08-20 04:35:01--  http://nlp.stanford.edu/data/glove.6B.zip\n",
      "Resolving nlp.stanford.edu (nlp.stanford.edu)... 171.64.67.140\n",
      "Connecting to nlp.stanford.edu (nlp.stanford.edu)|171.64.67.140|:80... connected.\n",
      "HTTP request sent, awaiting response... 302 Found\n",
      "Location: https://nlp.stanford.edu/data/glove.6B.zip [following]\n",
      "--2020-08-20 04:35:01--  https://nlp.stanford.edu/data/glove.6B.zip\n",
      "Connecting to nlp.stanford.edu (nlp.stanford.edu)|171.64.67.140|:443... connected.\n",
      "HTTP request sent, awaiting response... 301 Moved Permanently\n",
      "Location: http://downloads.cs.stanford.edu/nlp/data/glove.6B.zip [following]\n",
      "--2020-08-20 04:35:02--  http://downloads.cs.stanford.edu/nlp/data/glove.6B.zip\n",
      "Resolving downloads.cs.stanford.edu (downloads.cs.stanford.edu)... 171.64.64.22\n",
      "Connecting to downloads.cs.stanford.edu (downloads.cs.stanford.edu)|171.64.64.22|:80... connected.\n",
      "HTTP request sent, awaiting response... 200 OK\n",
      "Length: 862182613 (822M) [application/zip]\n",
      "Saving to: ‘glove.6B.zip’\n",
      "\n",
      "glove.6B.zip        100%[===================>] 822.24M  2.34MB/s    in 6m 29s  \n",
      "\n",
      "2020-08-20 04:41:31 (2.11 MB/s) - ‘glove.6B.zip’ saved [862182613/862182613]\n",
      "\n"
     ]
    }
   ],
   "source": [
    "!wget http://nlp.stanford.edu/data/glove.6B.zip"
   ]
  },
  {
   "cell_type": "code",
   "execution_count": 3,
   "metadata": {
    "colab": {
     "base_uri": "https://localhost:8080/",
     "height": 108
    },
    "colab_type": "code",
    "id": "OnOv3YSRysjR",
    "outputId": "f1724324-64a1-4ee1-c3f8-07d9ed24db0d"
   },
   "outputs": [
    {
     "name": "stdout",
     "output_type": "stream",
     "text": [
      "Archive:  glove.6B.zip\n",
      "  inflating: glove.6B.50d.txt        \n",
      "  inflating: glove.6B.100d.txt       \n",
      "  inflating: glove.6B.200d.txt       \n",
      "  inflating: glove.6B.300d.txt       \n"
     ]
    }
   ],
   "source": [
    "!unzip glove*.zip"
   ]
  },
  {
   "cell_type": "code",
   "execution_count": 4,
   "metadata": {
    "colab": {},
    "colab_type": "code",
    "id": "O_gYrK4YECT4"
   },
   "outputs": [],
   "source": [
    "from tensorflow.keras.preprocessing.text import Tokenizer\n",
    "from tensorflow.keras.utils import to_categorical\n",
    "from tensorflow.keras.preprocessing.sequence import pad_sequences\n",
    "from tensorflow.keras.models import Sequential\n",
    "from tensorflow.keras.layers import Dense,Dropout,LSTM,Embedding\n",
    "from tensorflow.keras import optimizers\n",
    "from tensorflow.keras import metrics\n",
    "import numpy as np\n",
    "import pandas as pd\n",
    "import nltk\n",
    "import re\n",
    "from matplotlib import pyplot"
   ]
  },
  {
   "cell_type": "code",
   "execution_count": 5,
   "metadata": {
    "colab": {
     "base_uri": "https://localhost:8080/",
     "height": 144
    },
    "colab_type": "code",
    "id": "gSD-UKuH66iU",
    "outputId": "c0de70cd-176b-4410-ab06-5a3d0750b82b"
   },
   "outputs": [
    {
     "name": "stdout",
     "output_type": "stream",
     "text": [
      "[nltk_data] Downloading package stopwords to /root/nltk_data...\n",
      "[nltk_data]   Unzipping corpora/stopwords.zip.\n",
      "[nltk_data] Downloading package wordnet to /root/nltk_data...\n",
      "[nltk_data]   Unzipping corpora/wordnet.zip.\n",
      "[nltk_data] Downloading package punkt to /root/nltk_data...\n",
      "[nltk_data]   Unzipping tokenizers/punkt.zip.\n"
     ]
    },
    {
     "data": {
      "text/plain": [
       "True"
      ]
     },
     "execution_count": 5,
     "metadata": {
      "tags": []
     },
     "output_type": "execute_result"
    }
   ],
   "source": [
    "nltk.download('stopwords')\n",
    "nltk.download('wordnet')\n",
    "nltk.download('punkt')"
   ]
  },
  {
   "cell_type": "code",
   "execution_count": 6,
   "metadata": {
    "colab": {},
    "colab_type": "code",
    "id": "uQa7CbhXJhhb"
   },
   "outputs": [],
   "source": [
    "lang=['javascript','sql','python','java','c#','php','c++','c','ruby','swift','r','vba','objective-c','scala','html','shell']\n",
    "lang_index = dict(zip(lang,(i for i in range(len(lang)))))"
   ]
  },
  {
   "cell_type": "code",
   "execution_count": 7,
   "metadata": {
    "colab": {},
    "colab_type": "code",
    "id": "3BtHcip60LYL"
   },
   "outputs": [],
   "source": [
    "sf_tags = pd.read_csv(r'/content/Tags.csv',encoding=\"ISO-8859-1\",)\n",
    "sf_tags = sf_tags.loc[sf_tags['Tag'].isin(lang)]\n",
    "sf_tags = sf_tags.drop_duplicates(subset='Id')\n",
    "sf_qstn = pd.read_csv(r'/content/Questions.csv',encoding=\"ISO-8859-1\")\n",
    "sf_qstn = sf_qstn.loc[sf_qstn['Id'].isin(sf_tags['Id'])]\n",
    "sf_tags.Tag.replace(to_replace=dict(css='html',bash='shell',powershell='shell'), inplace=True)\n",
    "sf_tags.set_index('Id',inplace=True)\n",
    "sf_qstn.set_index('Id',inplace=True)"
   ]
  },
  {
   "cell_type": "code",
   "execution_count": 8,
   "metadata": {
    "colab": {
     "base_uri": "https://localhost:8080/",
     "height": 394
    },
    "colab_type": "code",
    "id": "5fQcBghdiZe5",
    "outputId": "aba678ef-c11f-4f7f-dcc9-f390beb05c5d"
   },
   "outputs": [
    {
     "data": {
      "text/html": [
       "<div>\n",
       "<style scoped>\n",
       "    .dataframe tbody tr th:only-of-type {\n",
       "        vertical-align: middle;\n",
       "    }\n",
       "\n",
       "    .dataframe tbody tr th {\n",
       "        vertical-align: top;\n",
       "    }\n",
       "\n",
       "    .dataframe thead th {\n",
       "        text-align: right;\n",
       "    }\n",
       "</style>\n",
       "<table border=\"1\" class=\"dataframe\">\n",
       "  <thead>\n",
       "    <tr style=\"text-align: right;\">\n",
       "      <th></th>\n",
       "      <th>OwnerUserId</th>\n",
       "      <th>CreationDate</th>\n",
       "      <th>ClosedDate</th>\n",
       "      <th>Score</th>\n",
       "      <th>Title</th>\n",
       "      <th>Body</th>\n",
       "    </tr>\n",
       "    <tr>\n",
       "      <th>Id</th>\n",
       "      <th></th>\n",
       "      <th></th>\n",
       "      <th></th>\n",
       "      <th></th>\n",
       "      <th></th>\n",
       "      <th></th>\n",
       "    </tr>\n",
       "  </thead>\n",
       "  <tbody>\n",
       "    <tr>\n",
       "      <th>120</th>\n",
       "      <td>83.0</td>\n",
       "      <td>2008-08-01T15:50:08Z</td>\n",
       "      <td>NaN</td>\n",
       "      <td>21</td>\n",
       "      <td>ASP.NET Site Maps</td>\n",
       "      <td>&lt;p&gt;Has anyone got experience creating &lt;strong&gt;...</td>\n",
       "    </tr>\n",
       "    <tr>\n",
       "      <th>260</th>\n",
       "      <td>91.0</td>\n",
       "      <td>2008-08-01T23:22:08Z</td>\n",
       "      <td>NaN</td>\n",
       "      <td>49</td>\n",
       "      <td>Adding scripting functionality to .NET applica...</td>\n",
       "      <td>&lt;p&gt;I have a little game written in C#. It uses...</td>\n",
       "    </tr>\n",
       "    <tr>\n",
       "      <th>330</th>\n",
       "      <td>63.0</td>\n",
       "      <td>2008-08-02T02:51:36Z</td>\n",
       "      <td>NaN</td>\n",
       "      <td>29</td>\n",
       "      <td>Should I use nested classes in this case?</td>\n",
       "      <td>&lt;p&gt;I am working on a collection of classes use...</td>\n",
       "    </tr>\n",
       "    <tr>\n",
       "      <th>650</th>\n",
       "      <td>143.0</td>\n",
       "      <td>2008-08-03T11:12:52Z</td>\n",
       "      <td>NaN</td>\n",
       "      <td>79</td>\n",
       "      <td>Automatically update version number</td>\n",
       "      <td>&lt;p&gt;I would like the version property of my app...</td>\n",
       "    </tr>\n",
       "    <tr>\n",
       "      <th>930</th>\n",
       "      <td>245.0</td>\n",
       "      <td>2008-08-04T00:47:25Z</td>\n",
       "      <td>NaN</td>\n",
       "      <td>28</td>\n",
       "      <td>How do I connect to a database and loop over a...</td>\n",
       "      <td>&lt;p&gt;What's the simplest way to connect and quer...</td>\n",
       "    </tr>\n",
       "    <tr>\n",
       "      <th>1010</th>\n",
       "      <td>67.0</td>\n",
       "      <td>2008-08-04T03:59:42Z</td>\n",
       "      <td>NaN</td>\n",
       "      <td>14</td>\n",
       "      <td>How to get the value of built, encoded ViewState?</td>\n",
       "      <td>&lt;p&gt;I need to grab the base64-encoded represent...</td>\n",
       "    </tr>\n",
       "    <tr>\n",
       "      <th>1040</th>\n",
       "      <td>254.0</td>\n",
       "      <td>2008-08-04T05:45:22Z</td>\n",
       "      <td>NaN</td>\n",
       "      <td>42</td>\n",
       "      <td>How do I delete a file which is locked by anot...</td>\n",
       "      <td>&lt;p&gt;I'm looking for a way to delete a file whic...</td>\n",
       "    </tr>\n",
       "    <tr>\n",
       "      <th>1760</th>\n",
       "      <td>234.0</td>\n",
       "      <td>2008-08-05T00:51:49Z</td>\n",
       "      <td>NaN</td>\n",
       "      <td>51</td>\n",
       "      <td>.NET Unit Testing packages?</td>\n",
       "      <td>&lt;p&gt;Getting back into a bit more .NET after a f...</td>\n",
       "    </tr>\n",
       "    <tr>\n",
       "      <th>1970</th>\n",
       "      <td>116.0</td>\n",
       "      <td>2008-08-05T06:39:31Z</td>\n",
       "      <td>NaN</td>\n",
       "      <td>10</td>\n",
       "      <td>What language do you use for PostgreSQL trigge...</td>\n",
       "      <td>&lt;p&gt;PostgreSQL is interesting in that it suppor...</td>\n",
       "    </tr>\n",
       "    <tr>\n",
       "      <th>2120</th>\n",
       "      <td>383.0</td>\n",
       "      <td>2008-08-05T11:49:11Z</td>\n",
       "      <td>NaN</td>\n",
       "      <td>77</td>\n",
       "      <td>Convert HashBytes to VarChar</td>\n",
       "      <td>&lt;p&gt;I want to get the MD5 Hash of a string valu...</td>\n",
       "    </tr>\n",
       "  </tbody>\n",
       "</table>\n",
       "</div>"
      ],
      "text/plain": [
       "      OwnerUserId  ...                                               Body\n",
       "Id                 ...                                                   \n",
       "120          83.0  ...  <p>Has anyone got experience creating <strong>...\n",
       "260          91.0  ...  <p>I have a little game written in C#. It uses...\n",
       "330          63.0  ...  <p>I am working on a collection of classes use...\n",
       "650         143.0  ...  <p>I would like the version property of my app...\n",
       "930         245.0  ...  <p>What's the simplest way to connect and quer...\n",
       "1010         67.0  ...  <p>I need to grab the base64-encoded represent...\n",
       "1040        254.0  ...  <p>I'm looking for a way to delete a file whic...\n",
       "1760        234.0  ...  <p>Getting back into a bit more .NET after a f...\n",
       "1970        116.0  ...  <p>PostgreSQL is interesting in that it suppor...\n",
       "2120        383.0  ...  <p>I want to get the MD5 Hash of a string valu...\n",
       "\n",
       "[10 rows x 6 columns]"
      ]
     },
     "execution_count": 8,
     "metadata": {
      "tags": []
     },
     "output_type": "execute_result"
    }
   ],
   "source": [
    "sf_qstn.head(10)"
   ]
  },
  {
   "cell_type": "code",
   "execution_count": 9,
   "metadata": {
    "colab": {
     "base_uri": "https://localhost:8080/",
     "height": 394
    },
    "colab_type": "code",
    "id": "AGY6Al5ciccS",
    "outputId": "e0e54e04-a2b8-488a-eebe-141a574c04c1"
   },
   "outputs": [
    {
     "data": {
      "text/html": [
       "<div>\n",
       "<style scoped>\n",
       "    .dataframe tbody tr th:only-of-type {\n",
       "        vertical-align: middle;\n",
       "    }\n",
       "\n",
       "    .dataframe tbody tr th {\n",
       "        vertical-align: top;\n",
       "    }\n",
       "\n",
       "    .dataframe thead th {\n",
       "        text-align: right;\n",
       "    }\n",
       "</style>\n",
       "<table border=\"1\" class=\"dataframe\">\n",
       "  <thead>\n",
       "    <tr style=\"text-align: right;\">\n",
       "      <th></th>\n",
       "      <th>Tag</th>\n",
       "    </tr>\n",
       "    <tr>\n",
       "      <th>Id</th>\n",
       "      <th></th>\n",
       "    </tr>\n",
       "  </thead>\n",
       "  <tbody>\n",
       "    <tr>\n",
       "      <th>120</th>\n",
       "      <td>sql</td>\n",
       "    </tr>\n",
       "    <tr>\n",
       "      <th>260</th>\n",
       "      <td>c#</td>\n",
       "    </tr>\n",
       "    <tr>\n",
       "      <th>330</th>\n",
       "      <td>c++</td>\n",
       "    </tr>\n",
       "    <tr>\n",
       "      <th>650</th>\n",
       "      <td>c#</td>\n",
       "    </tr>\n",
       "    <tr>\n",
       "      <th>930</th>\n",
       "      <td>c#</td>\n",
       "    </tr>\n",
       "    <tr>\n",
       "      <th>1010</th>\n",
       "      <td>c#</td>\n",
       "    </tr>\n",
       "    <tr>\n",
       "      <th>1040</th>\n",
       "      <td>c#</td>\n",
       "    </tr>\n",
       "    <tr>\n",
       "      <th>1760</th>\n",
       "      <td>c#</td>\n",
       "    </tr>\n",
       "    <tr>\n",
       "      <th>1970</th>\n",
       "      <td>sql</td>\n",
       "    </tr>\n",
       "    <tr>\n",
       "      <th>2120</th>\n",
       "      <td>sql</td>\n",
       "    </tr>\n",
       "  </tbody>\n",
       "</table>\n",
       "</div>"
      ],
      "text/plain": [
       "      Tag\n",
       "Id       \n",
       "120   sql\n",
       "260    c#\n",
       "330   c++\n",
       "650    c#\n",
       "930    c#\n",
       "1010   c#\n",
       "1040   c#\n",
       "1760   c#\n",
       "1970  sql\n",
       "2120  sql"
      ]
     },
     "execution_count": 9,
     "metadata": {
      "tags": []
     },
     "output_type": "execute_result"
    }
   ],
   "source": [
    "sf_tags.head(10)"
   ]
  },
  {
   "cell_type": "code",
   "execution_count": 10,
   "metadata": {
    "colab": {
     "base_uri": "https://localhost:8080/",
     "height": 394
    },
    "colab_type": "code",
    "id": "80IaW6uFqPX5",
    "outputId": "fe54e082-0906-4579-befd-25c287ab9a11"
   },
   "outputs": [
    {
     "data": {
      "text/html": [
       "<div>\n",
       "<style scoped>\n",
       "    .dataframe tbody tr th:only-of-type {\n",
       "        vertical-align: middle;\n",
       "    }\n",
       "\n",
       "    .dataframe tbody tr th {\n",
       "        vertical-align: top;\n",
       "    }\n",
       "\n",
       "    .dataframe thead th {\n",
       "        text-align: right;\n",
       "    }\n",
       "</style>\n",
       "<table border=\"1\" class=\"dataframe\">\n",
       "  <thead>\n",
       "    <tr style=\"text-align: right;\">\n",
       "      <th></th>\n",
       "      <th>Title</th>\n",
       "      <th>Body</th>\n",
       "      <th>Tag</th>\n",
       "    </tr>\n",
       "    <tr>\n",
       "      <th>Id</th>\n",
       "      <th></th>\n",
       "      <th></th>\n",
       "      <th></th>\n",
       "    </tr>\n",
       "  </thead>\n",
       "  <tbody>\n",
       "    <tr>\n",
       "      <th>120</th>\n",
       "      <td>ASP.NET Site Maps</td>\n",
       "      <td>&lt;p&gt;Has anyone got experience creating &lt;strong&gt;...</td>\n",
       "      <td>sql</td>\n",
       "    </tr>\n",
       "    <tr>\n",
       "      <th>260</th>\n",
       "      <td>Adding scripting functionality to .NET applica...</td>\n",
       "      <td>&lt;p&gt;I have a little game written in C#. It uses...</td>\n",
       "      <td>c#</td>\n",
       "    </tr>\n",
       "    <tr>\n",
       "      <th>330</th>\n",
       "      <td>Should I use nested classes in this case?</td>\n",
       "      <td>&lt;p&gt;I am working on a collection of classes use...</td>\n",
       "      <td>c++</td>\n",
       "    </tr>\n",
       "    <tr>\n",
       "      <th>650</th>\n",
       "      <td>Automatically update version number</td>\n",
       "      <td>&lt;p&gt;I would like the version property of my app...</td>\n",
       "      <td>c#</td>\n",
       "    </tr>\n",
       "    <tr>\n",
       "      <th>930</th>\n",
       "      <td>How do I connect to a database and loop over a...</td>\n",
       "      <td>&lt;p&gt;What's the simplest way to connect and quer...</td>\n",
       "      <td>c#</td>\n",
       "    </tr>\n",
       "    <tr>\n",
       "      <th>1010</th>\n",
       "      <td>How to get the value of built, encoded ViewState?</td>\n",
       "      <td>&lt;p&gt;I need to grab the base64-encoded represent...</td>\n",
       "      <td>c#</td>\n",
       "    </tr>\n",
       "    <tr>\n",
       "      <th>1040</th>\n",
       "      <td>How do I delete a file which is locked by anot...</td>\n",
       "      <td>&lt;p&gt;I'm looking for a way to delete a file whic...</td>\n",
       "      <td>c#</td>\n",
       "    </tr>\n",
       "    <tr>\n",
       "      <th>1760</th>\n",
       "      <td>.NET Unit Testing packages?</td>\n",
       "      <td>&lt;p&gt;Getting back into a bit more .NET after a f...</td>\n",
       "      <td>c#</td>\n",
       "    </tr>\n",
       "    <tr>\n",
       "      <th>1970</th>\n",
       "      <td>What language do you use for PostgreSQL trigge...</td>\n",
       "      <td>&lt;p&gt;PostgreSQL is interesting in that it suppor...</td>\n",
       "      <td>sql</td>\n",
       "    </tr>\n",
       "    <tr>\n",
       "      <th>2120</th>\n",
       "      <td>Convert HashBytes to VarChar</td>\n",
       "      <td>&lt;p&gt;I want to get the MD5 Hash of a string valu...</td>\n",
       "      <td>sql</td>\n",
       "    </tr>\n",
       "  </tbody>\n",
       "</table>\n",
       "</div>"
      ],
      "text/plain": [
       "                                                  Title  ...  Tag\n",
       "Id                                                       ...     \n",
       "120                                   ASP.NET Site Maps  ...  sql\n",
       "260   Adding scripting functionality to .NET applica...  ...   c#\n",
       "330           Should I use nested classes in this case?  ...  c++\n",
       "650                 Automatically update version number  ...   c#\n",
       "930   How do I connect to a database and loop over a...  ...   c#\n",
       "1010  How to get the value of built, encoded ViewState?  ...   c#\n",
       "1040  How do I delete a file which is locked by anot...  ...   c#\n",
       "1760                        .NET Unit Testing packages?  ...   c#\n",
       "1970  What language do you use for PostgreSQL trigge...  ...  sql\n",
       "2120                       Convert HashBytes to VarChar  ...  sql\n",
       "\n",
       "[10 rows x 3 columns]"
      ]
     },
     "execution_count": 10,
     "metadata": {
      "tags": []
     },
     "output_type": "execute_result"
    }
   ],
   "source": [
    "col_merged = pd.concat([sf_qstn[['Title','Body']], sf_tags[['Tag']]], axis=1)\n",
    "col_merged.head(10)"
   ]
  },
  {
   "cell_type": "code",
   "execution_count": 11,
   "metadata": {
    "colab": {},
    "colab_type": "code",
    "id": "JVi4UV7tT33b"
   },
   "outputs": [],
   "source": [
    "data=[]\n",
    "for i in lang:\n",
    "  is_lan = col_merged['Tag'] == i\n",
    "  store = col_merged[is_lan]\n",
    "  if(store.shape[0]>10000):\n",
    "    store = store.iloc[:10000,]\n",
    "  for j in range(store.shape[0]):\n",
    "    data.append(store.iloc[j])\n",
    "\n",
    "\n",
    "data = pd.DataFrame(data)\n",
    "data = data.sample(frac=1).reset_index(drop=True)\n",
    "data.columns=['Title','Body','Tag']\n",
    "tag_count = data['Tag'].value_counts().to_dict()\n",
    "data['Questions']=data['Title'] + data['Body']\n",
    "data['Tag'] = data['Tag'].apply(lambda x: lang_index[x])\n",
    "data['Tag']=data['Tag'].apply(lambda x: to_categorical(x,num_classes=16))"
   ]
  },
  {
   "cell_type": "code",
   "execution_count": 12,
   "metadata": {
    "colab": {
     "base_uri": "https://localhost:8080/",
     "height": 308
    },
    "colab_type": "code",
    "id": "qm7g1WtJpBcQ",
    "outputId": "034ed7e9-81ee-47ef-8147-b7cadcbb5f3e"
   },
   "outputs": [
    {
     "data": {
      "text/plain": [
       "{'c': 10000,\n",
       " 'c#': 10000,\n",
       " 'c++': 10000,\n",
       " 'html': 10000,\n",
       " 'java': 10000,\n",
       " 'javascript': 10000,\n",
       " 'objective-c': 10000,\n",
       " 'php': 10000,\n",
       " 'python': 10000,\n",
       " 'r': 10000,\n",
       " 'ruby': 10000,\n",
       " 'scala': 5101,\n",
       " 'shell': 4125,\n",
       " 'sql': 10000,\n",
       " 'swift': 10000,\n",
       " 'vba': 6442}"
      ]
     },
     "execution_count": 12,
     "metadata": {
      "tags": []
     },
     "output_type": "execute_result"
    }
   ],
   "source": [
    "tag_count"
   ]
  },
  {
   "cell_type": "code",
   "execution_count": 13,
   "metadata": {
    "colab": {
     "base_uri": "https://localhost:8080/",
     "height": 326
    },
    "colab_type": "code",
    "id": "5LrL4tW0kwox",
    "outputId": "6ac5fca6-91d7-40e6-a932-9a007667d5f5"
   },
   "outputs": [
    {
     "name": "stdout",
     "output_type": "stream",
     "text": [
      "Collecting contractions\n",
      "  Downloading https://files.pythonhosted.org/packages/00/92/a05b76a692ac08d470ae5c23873cf1c9a041532f1ee065e74b374f218306/contractions-0.0.25-py2.py3-none-any.whl\n",
      "Collecting textsearch\n",
      "  Downloading https://files.pythonhosted.org/packages/42/a8/03407021f9555043de5492a2bd7a35c56cc03c2510092b5ec018cae1bbf1/textsearch-0.0.17-py2.py3-none-any.whl\n",
      "Collecting pyahocorasick\n",
      "\u001b[?25l  Downloading https://files.pythonhosted.org/packages/f4/9f/f0d8e8850e12829eea2e778f1c90e3c53a9a799b7f412082a5d21cd19ae1/pyahocorasick-1.4.0.tar.gz (312kB)\n",
      "\u001b[K     |████████████████████████████████| 317kB 12.2MB/s \n",
      "\u001b[?25hCollecting Unidecode\n",
      "\u001b[?25l  Downloading https://files.pythonhosted.org/packages/d0/42/d9edfed04228bacea2d824904cae367ee9efd05e6cce7ceaaedd0b0ad964/Unidecode-1.1.1-py2.py3-none-any.whl (238kB)\n",
      "\u001b[K     |████████████████████████████████| 245kB 24.0MB/s \n",
      "\u001b[?25hBuilding wheels for collected packages: pyahocorasick\n",
      "  Building wheel for pyahocorasick (setup.py) ... \u001b[?25l\u001b[?25hdone\n",
      "  Created wheel for pyahocorasick: filename=pyahocorasick-1.4.0-cp36-cp36m-linux_x86_64.whl size=81707 sha256=0f93f47cc424b11df871fb1031a64281e2534177b7472e90fd8ea4a61f943f82\n",
      "  Stored in directory: /root/.cache/pip/wheels/0a/90/61/87a55f5b459792fbb2b7ba6b31721b06ff5cf6bde541b40994\n",
      "Successfully built pyahocorasick\n",
      "Installing collected packages: pyahocorasick, Unidecode, textsearch, contractions\n",
      "Successfully installed Unidecode-1.1.1 contractions-0.0.25 pyahocorasick-1.4.0 textsearch-0.0.17\n"
     ]
    }
   ],
   "source": [
    "!pip install contractions"
   ]
  },
  {
   "cell_type": "code",
   "execution_count": 14,
   "metadata": {
    "colab": {},
    "colab_type": "code",
    "id": "-YrC0LW_nakg"
   },
   "outputs": [],
   "source": [
    "from nltk import word_tokenize\n",
    "def remove_html_tags(text):\n",
    "  \"\"\"Remove html tags from a string\"\"\"\n",
    "  clean = re.compile('<.*?>')\n",
    "  return re.sub(clean, '', text)\n",
    "\n",
    "def expand_contractions(text):\n",
    "  from contractions import  contractions_dict\n",
    "  pattern = re.compile(\"({})\".format(\"|\".join( contractions_dict.keys())),flags = re.DOTALL| re.IGNORECASE)\n",
    "    \n",
    "  def replace_text(t):\n",
    "    txt = t.group(0)\n",
    "    if txt.lower() in  contractions_dict.keys():\n",
    "      return  contractions_dict[txt.lower()]\n",
    "        \n",
    "  expand_text = pattern.sub(replace_text,text)\n",
    "  return expand_text \n",
    "\n",
    "def clean_text(text):\n",
    "  filters = '!\"#$%&\\'()*+,-./:;<=>?@[\\\\]^_`{|}~0123456789'\n",
    "  text = \"\".join([word for word in text if word not in filters])\n",
    "  stop_wor = nltk.corpus.stopwords.words('english')\n",
    "  text = [word for word in word_tokenize(text) if word not in stop_wor]\n",
    "  ps = nltk.PorterStemmer()\n",
    "  text = [ps.stem(word) for word in text]\n",
    "  wn = nltk.WordNetLemmatizer()\n",
    "  text = [wn.lemmatize(word) for word in text]\n",
    "  return text"
   ]
  },
  {
   "cell_type": "code",
   "execution_count": 15,
   "metadata": {
    "colab": {},
    "colab_type": "code",
    "id": "GtRuTGVQnygg"
   },
   "outputs": [],
   "source": [
    "data['Questions']=data['Questions'].apply(lambda x: remove_html_tags(x.lower()))\n",
    "data['Questions']=data['Questions'].apply(lambda x: expand_contractions(x))\n",
    "data['Questions']=data['Questions'].apply(lambda x: clean_text(x))"
   ]
  },
  {
   "cell_type": "code",
   "execution_count": 16,
   "metadata": {
    "colab": {},
    "colab_type": "code",
    "id": "7ehWED6VFDjV"
   },
   "outputs": [],
   "source": [
    "size= 121134\n",
    "tokenizer = Tokenizer(num_words = None,oov_token=\"<OOV>\")\n",
    "tokenizer.fit_on_texts(data['Questions'][:size])\n",
    "word_index = tokenizer.word_index\n",
    "sequences_train = tokenizer.texts_to_sequences(data['Questions'][:size])\n",
    "sequences_train = np.array(sequences_train)\n",
    "sequences_train = pad_sequences(sequences_train, maxlen=76, padding=\"pre\", truncating=\"post\")\n",
    "\n",
    "sequences_test = tokenizer.texts_to_sequences(data['Questions'][size:])\n",
    "sequences_test = np.array(sequences_test)\n",
    "sequences_test = pad_sequences(sequences_test, maxlen=76, padding=\"pre\", truncating=\"post\")"
   ]
  },
  {
   "cell_type": "code",
   "execution_count": 17,
   "metadata": {
    "colab": {},
    "colab_type": "code",
    "id": "5dyzLeTbFG6C"
   },
   "outputs": [],
   "source": [
    "x_train = sequences_train\n",
    "y_train = np.array(data['Tag'][:size])\n",
    "y_train = np.stack( y_train, axis=0 )\n",
    "\n",
    "x_test = sequences_test\n",
    "y_test = np.array(data['Tag'][size:])\n",
    "y_test= np.stack( y_test, axis=0 )"
   ]
  },
  {
   "cell_type": "code",
   "execution_count": 18,
   "metadata": {
    "colab": {
     "base_uri": "https://localhost:8080/",
     "height": 35
    },
    "colab_type": "code",
    "id": "jh3O6V21ITtT",
    "outputId": "5b896dde-acdb-4ac3-9609-877f7fb6dc26"
   },
   "outputs": [
    {
     "name": "stdout",
     "output_type": "stream",
     "text": [
      "Loaded 400000 word vectors.\n"
     ]
    }
   ],
   "source": [
    "size_of_vocabulary = len(word_index) + 1\n",
    "embeddings_index = dict()\n",
    "f = open(r'glove.6B.300d.txt',encoding=\"utf8\")\n",
    "\n",
    "for line in f:\n",
    "  values = line.split()\n",
    "  word = values[0]\n",
    "  coefs = np.asarray(values[1:], dtype='float32')\n",
    "  embeddings_index[word] = coefs\n",
    "\n",
    "f.close()\n",
    "print('Loaded %s word vectors.' % len(embeddings_index))\n",
    "\n",
    "embedding_matrix = np.zeros((size_of_vocabulary, 300))\n",
    "\n",
    "for word, i in tokenizer.word_index.items():\n",
    "  embedding_vector = embeddings_index.get(word)\n",
    "  if embedding_vector is not None:\n",
    "      embedding_matrix[i] = embedding_vector"
   ]
  },
  {
   "cell_type": "code",
   "execution_count": 19,
   "metadata": {
    "colab": {},
    "colab_type": "code",
    "id": "ew-4Gz_cHFfG"
   },
   "outputs": [],
   "source": [
    "model = Sequential()\n",
    "model.add(Embedding(size_of_vocabulary,300,weights=[embedding_matrix],input_length=76,trainable=False))\n",
    "model.add(LSTM(64,return_sequences=True,dropout=0.5))\n",
    "model.add(LSTM(64,return_sequences=True,dropout=0.5))\n",
    "model.add(LSTM(64,dropout=0.5))\n",
    "model.add(Dense(16,activation='softmax'))"
   ]
  },
  {
   "cell_type": "code",
   "execution_count": 20,
   "metadata": {
    "colab": {},
    "colab_type": "code",
    "id": "3J7ZeI-xFNTT"
   },
   "outputs": [],
   "source": [
    "model.compile(loss='categorical_crossentropy',optimizer='adam',metrics=[metrics.CategoricalAccuracy()])"
   ]
  },
  {
   "cell_type": "code",
   "execution_count": 21,
   "metadata": {
    "colab": {
     "base_uri": "https://localhost:8080/",
     "height": 1000
    },
    "colab_type": "code",
    "id": "SrzC52XkFQQf",
    "outputId": "9a8db66d-b4df-47c9-9465-d2eae076f6c1"
   },
   "outputs": [
    {
     "name": "stdout",
     "output_type": "stream",
     "text": [
      "Epoch 1/100\n",
      "95/95 [==============================] - 8s 81ms/step - loss: 2.2367 - categorical_accuracy: 0.2844 - val_loss: 1.6265 - val_categorical_accuracy: 0.4942\n",
      "Epoch 2/100\n",
      "95/95 [==============================] - 7s 72ms/step - loss: 1.5324 - categorical_accuracy: 0.5257 - val_loss: 1.2401 - val_categorical_accuracy: 0.6168\n",
      "Epoch 3/100\n",
      "95/95 [==============================] - 7s 72ms/step - loss: 1.2966 - categorical_accuracy: 0.5973 - val_loss: 1.1647 - val_categorical_accuracy: 0.6416\n",
      "Epoch 4/100\n",
      "95/95 [==============================] - 7s 71ms/step - loss: 1.1892 - categorical_accuracy: 0.6308 - val_loss: 1.0623 - val_categorical_accuracy: 0.6705\n",
      "Epoch 5/100\n",
      "95/95 [==============================] - 7s 70ms/step - loss: 1.1161 - categorical_accuracy: 0.6520 - val_loss: 1.0089 - val_categorical_accuracy: 0.6860\n",
      "Epoch 6/100\n",
      "95/95 [==============================] - 7s 71ms/step - loss: 1.0637 - categorical_accuracy: 0.6665 - val_loss: 0.9641 - val_categorical_accuracy: 0.6993\n",
      "Epoch 7/100\n",
      "95/95 [==============================] - 7s 71ms/step - loss: 1.0205 - categorical_accuracy: 0.6813 - val_loss: 0.9323 - val_categorical_accuracy: 0.7116\n",
      "Epoch 8/100\n",
      "95/95 [==============================] - 7s 70ms/step - loss: 0.9926 - categorical_accuracy: 0.6894 - val_loss: 0.9128 - val_categorical_accuracy: 0.7159\n",
      "Epoch 9/100\n",
      "95/95 [==============================] - 7s 71ms/step - loss: 0.9660 - categorical_accuracy: 0.6961 - val_loss: 0.8884 - val_categorical_accuracy: 0.7246\n",
      "Epoch 10/100\n",
      "95/95 [==============================] - 7s 71ms/step - loss: 0.9357 - categorical_accuracy: 0.7046 - val_loss: 0.8724 - val_categorical_accuracy: 0.7275\n",
      "Epoch 11/100\n",
      "95/95 [==============================] - 7s 69ms/step - loss: 0.9141 - categorical_accuracy: 0.7115 - val_loss: 0.8514 - val_categorical_accuracy: 0.7332\n",
      "Epoch 12/100\n",
      "95/95 [==============================] - 7s 70ms/step - loss: 0.8970 - categorical_accuracy: 0.7154 - val_loss: 0.8290 - val_categorical_accuracy: 0.7383\n",
      "Epoch 13/100\n",
      "95/95 [==============================] - 7s 70ms/step - loss: 0.8766 - categorical_accuracy: 0.7213 - val_loss: 0.8164 - val_categorical_accuracy: 0.7435\n",
      "Epoch 14/100\n",
      "95/95 [==============================] - 7s 70ms/step - loss: 0.8642 - categorical_accuracy: 0.7253 - val_loss: 0.8137 - val_categorical_accuracy: 0.7452\n",
      "Epoch 15/100\n",
      "95/95 [==============================] - 7s 69ms/step - loss: 0.8489 - categorical_accuracy: 0.7296 - val_loss: 0.8309 - val_categorical_accuracy: 0.7382\n",
      "Epoch 16/100\n",
      "95/95 [==============================] - 7s 70ms/step - loss: 0.8367 - categorical_accuracy: 0.7327 - val_loss: 0.7932 - val_categorical_accuracy: 0.7502\n",
      "Epoch 17/100\n",
      "95/95 [==============================] - 7s 71ms/step - loss: 0.8271 - categorical_accuracy: 0.7363 - val_loss: 0.7822 - val_categorical_accuracy: 0.7535\n",
      "Epoch 18/100\n",
      "95/95 [==============================] - 7s 69ms/step - loss: 0.8134 - categorical_accuracy: 0.7408 - val_loss: 0.7730 - val_categorical_accuracy: 0.7536\n",
      "Epoch 19/100\n",
      "95/95 [==============================] - 7s 71ms/step - loss: 0.8062 - categorical_accuracy: 0.7425 - val_loss: 0.7660 - val_categorical_accuracy: 0.7568\n",
      "Epoch 20/100\n",
      "95/95 [==============================] - 7s 71ms/step - loss: 0.7975 - categorical_accuracy: 0.7436 - val_loss: 0.7654 - val_categorical_accuracy: 0.7578\n",
      "Epoch 21/100\n",
      "95/95 [==============================] - 7s 71ms/step - loss: 0.7884 - categorical_accuracy: 0.7470 - val_loss: 0.7653 - val_categorical_accuracy: 0.7578\n",
      "Epoch 22/100\n",
      "95/95 [==============================] - 7s 71ms/step - loss: 0.7770 - categorical_accuracy: 0.7505 - val_loss: 0.7598 - val_categorical_accuracy: 0.7578\n",
      "Epoch 23/100\n",
      "95/95 [==============================] - 7s 69ms/step - loss: 0.7730 - categorical_accuracy: 0.7510 - val_loss: 0.7464 - val_categorical_accuracy: 0.7639\n",
      "Epoch 24/100\n",
      "95/95 [==============================] - 7s 70ms/step - loss: 0.7675 - categorical_accuracy: 0.7519 - val_loss: 0.7421 - val_categorical_accuracy: 0.7633\n",
      "Epoch 25/100\n",
      "95/95 [==============================] - 7s 70ms/step - loss: 0.7598 - categorical_accuracy: 0.7543 - val_loss: 0.7417 - val_categorical_accuracy: 0.7646\n",
      "Epoch 26/100\n",
      "95/95 [==============================] - 7s 71ms/step - loss: 0.7485 - categorical_accuracy: 0.7590 - val_loss: 0.7350 - val_categorical_accuracy: 0.7662\n",
      "Epoch 27/100\n",
      "95/95 [==============================] - 7s 71ms/step - loss: 0.7513 - categorical_accuracy: 0.7583 - val_loss: 0.7297 - val_categorical_accuracy: 0.7675\n",
      "Epoch 28/100\n",
      "95/95 [==============================] - 7s 70ms/step - loss: 0.7444 - categorical_accuracy: 0.7595 - val_loss: 0.7275 - val_categorical_accuracy: 0.7703\n",
      "Epoch 29/100\n",
      "95/95 [==============================] - 7s 70ms/step - loss: 0.7365 - categorical_accuracy: 0.7632 - val_loss: 0.7278 - val_categorical_accuracy: 0.7694\n",
      "Epoch 30/100\n",
      "95/95 [==============================] - 7s 72ms/step - loss: 0.7320 - categorical_accuracy: 0.7631 - val_loss: 0.7204 - val_categorical_accuracy: 0.7713\n",
      "Epoch 31/100\n",
      "95/95 [==============================] - 7s 72ms/step - loss: 0.7290 - categorical_accuracy: 0.7646 - val_loss: 0.7230 - val_categorical_accuracy: 0.7710\n",
      "Epoch 32/100\n",
      "95/95 [==============================] - 7s 72ms/step - loss: 0.7221 - categorical_accuracy: 0.7667 - val_loss: 0.7214 - val_categorical_accuracy: 0.7712\n",
      "Epoch 33/100\n",
      "95/95 [==============================] - 7s 71ms/step - loss: 0.7183 - categorical_accuracy: 0.7674 - val_loss: 0.7142 - val_categorical_accuracy: 0.7731\n",
      "Epoch 34/100\n",
      "95/95 [==============================] - 7s 72ms/step - loss: 0.7170 - categorical_accuracy: 0.7675 - val_loss: 0.7187 - val_categorical_accuracy: 0.7726\n",
      "Epoch 35/100\n",
      "95/95 [==============================] - 7s 72ms/step - loss: 0.7120 - categorical_accuracy: 0.7690 - val_loss: 0.7195 - val_categorical_accuracy: 0.7733\n",
      "Epoch 36/100\n",
      "95/95 [==============================] - 7s 73ms/step - loss: 0.7065 - categorical_accuracy: 0.7702 - val_loss: 0.7206 - val_categorical_accuracy: 0.7696\n",
      "Epoch 37/100\n",
      "95/95 [==============================] - 7s 73ms/step - loss: 0.7057 - categorical_accuracy: 0.7710 - val_loss: 0.7131 - val_categorical_accuracy: 0.7734\n",
      "Epoch 38/100\n",
      "95/95 [==============================] - 7s 72ms/step - loss: 0.7039 - categorical_accuracy: 0.7723 - val_loss: 0.7099 - val_categorical_accuracy: 0.7748\n",
      "Epoch 39/100\n",
      "95/95 [==============================] - 7s 69ms/step - loss: 0.6963 - categorical_accuracy: 0.7751 - val_loss: 0.7063 - val_categorical_accuracy: 0.7783\n",
      "Epoch 40/100\n",
      "95/95 [==============================] - 7s 70ms/step - loss: 0.6960 - categorical_accuracy: 0.7729 - val_loss: 0.7077 - val_categorical_accuracy: 0.7757\n",
      "Epoch 41/100\n",
      "95/95 [==============================] - 7s 69ms/step - loss: 0.6924 - categorical_accuracy: 0.7755 - val_loss: 0.7087 - val_categorical_accuracy: 0.7745\n",
      "Epoch 42/100\n",
      "95/95 [==============================] - 7s 69ms/step - loss: 0.6894 - categorical_accuracy: 0.7753 - val_loss: 0.7056 - val_categorical_accuracy: 0.7757\n",
      "Epoch 43/100\n",
      "95/95 [==============================] - 7s 70ms/step - loss: 0.6887 - categorical_accuracy: 0.7752 - val_loss: 0.7050 - val_categorical_accuracy: 0.7748\n",
      "Epoch 44/100\n",
      "95/95 [==============================] - 7s 71ms/step - loss: 0.6855 - categorical_accuracy: 0.7759 - val_loss: 0.7020 - val_categorical_accuracy: 0.7788\n",
      "Epoch 45/100\n",
      "95/95 [==============================] - 7s 71ms/step - loss: 0.6825 - categorical_accuracy: 0.7780 - val_loss: 0.7008 - val_categorical_accuracy: 0.7765\n",
      "Epoch 46/100\n",
      "95/95 [==============================] - 7s 72ms/step - loss: 0.6776 - categorical_accuracy: 0.7781 - val_loss: 0.6967 - val_categorical_accuracy: 0.7790\n",
      "Epoch 47/100\n",
      "95/95 [==============================] - 7s 69ms/step - loss: 0.6730 - categorical_accuracy: 0.7810 - val_loss: 0.6979 - val_categorical_accuracy: 0.7794\n",
      "Epoch 48/100\n",
      "95/95 [==============================] - 7s 72ms/step - loss: 0.6744 - categorical_accuracy: 0.7799 - val_loss: 0.6986 - val_categorical_accuracy: 0.7806\n",
      "Epoch 49/100\n",
      "95/95 [==============================] - 7s 72ms/step - loss: 0.6725 - categorical_accuracy: 0.7805 - val_loss: 0.6923 - val_categorical_accuracy: 0.7789\n",
      "Epoch 50/100\n",
      "95/95 [==============================] - 7s 72ms/step - loss: 0.6714 - categorical_accuracy: 0.7798 - val_loss: 0.6961 - val_categorical_accuracy: 0.7783\n",
      "Epoch 51/100\n",
      "95/95 [==============================] - 7s 71ms/step - loss: 0.6664 - categorical_accuracy: 0.7825 - val_loss: 0.6925 - val_categorical_accuracy: 0.7789\n",
      "Epoch 52/100\n",
      "95/95 [==============================] - 7s 69ms/step - loss: 0.6671 - categorical_accuracy: 0.7818 - val_loss: 0.6922 - val_categorical_accuracy: 0.7795\n",
      "Epoch 53/100\n",
      "95/95 [==============================] - 7s 69ms/step - loss: 0.6640 - categorical_accuracy: 0.7825 - val_loss: 0.6926 - val_categorical_accuracy: 0.7814\n",
      "Epoch 54/100\n",
      "95/95 [==============================] - 7s 71ms/step - loss: 0.6600 - categorical_accuracy: 0.7835 - val_loss: 0.7000 - val_categorical_accuracy: 0.7790\n",
      "Epoch 55/100\n",
      "95/95 [==============================] - 7s 71ms/step - loss: 0.6573 - categorical_accuracy: 0.7854 - val_loss: 0.6960 - val_categorical_accuracy: 0.7785\n",
      "Epoch 56/100\n",
      "95/95 [==============================] - 7s 71ms/step - loss: 0.6588 - categorical_accuracy: 0.7836 - val_loss: 0.6938 - val_categorical_accuracy: 0.7795\n",
      "Epoch 57/100\n",
      "95/95 [==============================] - 7s 70ms/step - loss: 0.6584 - categorical_accuracy: 0.7849 - val_loss: 0.6912 - val_categorical_accuracy: 0.7819\n",
      "Epoch 58/100\n",
      "95/95 [==============================] - 7s 69ms/step - loss: 0.6533 - categorical_accuracy: 0.7853 - val_loss: 0.6912 - val_categorical_accuracy: 0.7807\n",
      "Epoch 59/100\n",
      "95/95 [==============================] - 7s 70ms/step - loss: 0.6509 - categorical_accuracy: 0.7868 - val_loss: 0.6881 - val_categorical_accuracy: 0.7831\n",
      "Epoch 60/100\n",
      "95/95 [==============================] - 7s 69ms/step - loss: 0.6521 - categorical_accuracy: 0.7854 - val_loss: 0.6920 - val_categorical_accuracy: 0.7807\n",
      "Epoch 61/100\n",
      "95/95 [==============================] - 7s 69ms/step - loss: 0.6478 - categorical_accuracy: 0.7881 - val_loss: 0.6921 - val_categorical_accuracy: 0.7812\n",
      "Epoch 62/100\n",
      "95/95 [==============================] - 7s 70ms/step - loss: 0.6449 - categorical_accuracy: 0.7880 - val_loss: 0.6867 - val_categorical_accuracy: 0.7816\n",
      "Epoch 63/100\n",
      "95/95 [==============================] - 7s 70ms/step - loss: 0.6483 - categorical_accuracy: 0.7864 - val_loss: 0.6889 - val_categorical_accuracy: 0.7819\n",
      "Epoch 64/100\n",
      "95/95 [==============================] - 7s 70ms/step - loss: 0.6453 - categorical_accuracy: 0.7887 - val_loss: 0.6887 - val_categorical_accuracy: 0.7813\n",
      "Epoch 65/100\n",
      "95/95 [==============================] - 7s 69ms/step - loss: 0.6433 - categorical_accuracy: 0.7889 - val_loss: 0.6904 - val_categorical_accuracy: 0.7818\n",
      "Epoch 66/100\n",
      "95/95 [==============================] - 7s 69ms/step - loss: 0.6381 - categorical_accuracy: 0.7905 - val_loss: 0.6858 - val_categorical_accuracy: 0.7820\n",
      "Epoch 67/100\n",
      "95/95 [==============================] - 7s 69ms/step - loss: 0.6388 - categorical_accuracy: 0.7891 - val_loss: 0.6862 - val_categorical_accuracy: 0.7831\n",
      "Epoch 68/100\n",
      "95/95 [==============================] - 7s 69ms/step - loss: 0.6379 - categorical_accuracy: 0.7893 - val_loss: 0.6862 - val_categorical_accuracy: 0.7817\n",
      "Epoch 69/100\n",
      "95/95 [==============================] - 7s 69ms/step - loss: 0.6361 - categorical_accuracy: 0.7910 - val_loss: 0.6851 - val_categorical_accuracy: 0.7840\n",
      "Epoch 70/100\n",
      "95/95 [==============================] - 7s 70ms/step - loss: 0.6312 - categorical_accuracy: 0.7915 - val_loss: 0.6841 - val_categorical_accuracy: 0.7828\n",
      "Epoch 71/100\n",
      "95/95 [==============================] - 7s 69ms/step - loss: 0.6346 - categorical_accuracy: 0.7904 - val_loss: 0.6802 - val_categorical_accuracy: 0.7831\n",
      "Epoch 72/100\n",
      "95/95 [==============================] - 7s 69ms/step - loss: 0.6319 - categorical_accuracy: 0.7915 - val_loss: 0.6865 - val_categorical_accuracy: 0.7831\n",
      "Epoch 73/100\n",
      "95/95 [==============================] - 7s 69ms/step - loss: 0.6328 - categorical_accuracy: 0.7906 - val_loss: 0.6934 - val_categorical_accuracy: 0.7805\n",
      "Epoch 74/100\n",
      "95/95 [==============================] - 7s 71ms/step - loss: 0.6313 - categorical_accuracy: 0.7916 - val_loss: 0.6925 - val_categorical_accuracy: 0.7811\n",
      "Epoch 75/100\n",
      "95/95 [==============================] - 7s 71ms/step - loss: 0.6268 - categorical_accuracy: 0.7934 - val_loss: 0.6851 - val_categorical_accuracy: 0.7831\n",
      "Epoch 76/100\n",
      "95/95 [==============================] - 7s 71ms/step - loss: 0.6258 - categorical_accuracy: 0.7926 - val_loss: 0.6843 - val_categorical_accuracy: 0.7837\n",
      "Epoch 77/100\n",
      "95/95 [==============================] - 7s 69ms/step - loss: 0.6227 - categorical_accuracy: 0.7940 - val_loss: 0.6819 - val_categorical_accuracy: 0.7833\n",
      "Epoch 78/100\n",
      "95/95 [==============================] - 7s 71ms/step - loss: 0.6248 - categorical_accuracy: 0.7936 - val_loss: 0.6838 - val_categorical_accuracy: 0.7839\n",
      "Epoch 79/100\n",
      "95/95 [==============================] - 7s 71ms/step - loss: 0.6210 - categorical_accuracy: 0.7943 - val_loss: 0.6857 - val_categorical_accuracy: 0.7833\n",
      "Epoch 80/100\n",
      "95/95 [==============================] - 7s 71ms/step - loss: 0.6240 - categorical_accuracy: 0.7932 - val_loss: 0.6821 - val_categorical_accuracy: 0.7825\n",
      "Epoch 81/100\n",
      "95/95 [==============================] - 7s 71ms/step - loss: 0.6192 - categorical_accuracy: 0.7938 - val_loss: 0.6857 - val_categorical_accuracy: 0.7856\n",
      "Epoch 82/100\n",
      "95/95 [==============================] - 7s 71ms/step - loss: 0.6201 - categorical_accuracy: 0.7957 - val_loss: 0.6779 - val_categorical_accuracy: 0.7866\n",
      "Epoch 83/100\n",
      "95/95 [==============================] - 7s 71ms/step - loss: 0.6191 - categorical_accuracy: 0.7945 - val_loss: 0.6890 - val_categorical_accuracy: 0.7836\n",
      "Epoch 84/100\n",
      "95/95 [==============================] - 7s 69ms/step - loss: 0.6186 - categorical_accuracy: 0.7955 - val_loss: 0.6875 - val_categorical_accuracy: 0.7814\n",
      "Epoch 85/100\n",
      "95/95 [==============================] - 7s 71ms/step - loss: 0.6131 - categorical_accuracy: 0.7971 - val_loss: 0.6806 - val_categorical_accuracy: 0.7850\n",
      "Epoch 86/100\n",
      "95/95 [==============================] - 7s 69ms/step - loss: 0.6146 - categorical_accuracy: 0.7967 - val_loss: 0.6861 - val_categorical_accuracy: 0.7837\n",
      "Epoch 87/100\n",
      "95/95 [==============================] - 7s 70ms/step - loss: 0.6148 - categorical_accuracy: 0.7960 - val_loss: 0.6820 - val_categorical_accuracy: 0.7836\n",
      "Epoch 88/100\n",
      "95/95 [==============================] - 7s 71ms/step - loss: 0.6147 - categorical_accuracy: 0.7974 - val_loss: 0.6794 - val_categorical_accuracy: 0.7853\n",
      "Epoch 89/100\n",
      "95/95 [==============================] - 7s 71ms/step - loss: 0.6123 - categorical_accuracy: 0.7969 - val_loss: 0.6834 - val_categorical_accuracy: 0.7866\n",
      "Epoch 90/100\n",
      "95/95 [==============================] - 7s 72ms/step - loss: 0.6105 - categorical_accuracy: 0.7966 - val_loss: 0.6782 - val_categorical_accuracy: 0.7848\n",
      "Epoch 91/100\n",
      "95/95 [==============================] - 7s 72ms/step - loss: 0.6097 - categorical_accuracy: 0.7985 - val_loss: 0.6873 - val_categorical_accuracy: 0.7840\n",
      "Epoch 92/100\n",
      "95/95 [==============================] - 7s 71ms/step - loss: 0.6110 - categorical_accuracy: 0.7970 - val_loss: 0.6867 - val_categorical_accuracy: 0.7844\n",
      "Epoch 93/100\n",
      "95/95 [==============================] - 7s 71ms/step - loss: 0.6058 - categorical_accuracy: 0.7993 - val_loss: 0.6838 - val_categorical_accuracy: 0.7850\n",
      "Epoch 94/100\n",
      "95/95 [==============================] - 7s 72ms/step - loss: 0.6083 - categorical_accuracy: 0.7978 - val_loss: 0.6859 - val_categorical_accuracy: 0.7839\n",
      "Epoch 95/100\n",
      "95/95 [==============================] - 7s 72ms/step - loss: 0.6044 - categorical_accuracy: 0.8003 - val_loss: 0.6904 - val_categorical_accuracy: 0.7827\n",
      "Epoch 96/100\n",
      "95/95 [==============================] - 7s 71ms/step - loss: 0.6040 - categorical_accuracy: 0.7988 - val_loss: 0.6923 - val_categorical_accuracy: 0.7848\n",
      "Epoch 97/100\n",
      "95/95 [==============================] - 7s 71ms/step - loss: 0.6060 - categorical_accuracy: 0.7992 - val_loss: 0.6821 - val_categorical_accuracy: 0.7859\n",
      "Epoch 98/100\n",
      "95/95 [==============================] - 7s 71ms/step - loss: 0.6029 - categorical_accuracy: 0.7998 - val_loss: 0.6862 - val_categorical_accuracy: 0.7856\n",
      "Epoch 99/100\n",
      "95/95 [==============================] - 7s 70ms/step - loss: 0.6019 - categorical_accuracy: 0.8006 - val_loss: 0.6830 - val_categorical_accuracy: 0.7844\n",
      "Epoch 100/100\n",
      "95/95 [==============================] - 7s 69ms/step - loss: 0.6024 - categorical_accuracy: 0.8004 - val_loss: 0.6873 - val_categorical_accuracy: 0.7835\n"
     ]
    },
    {
     "data": {
      "image/png": "[encoded data removed]",
      "text/plain": [
       "<Figure size 432x288 with 1 Axes>"
      ]
     },
     "metadata": {
      "needs_background": "light",
      "tags": []
     },
     "output_type": "display_data"
    }
   ],
   "source": [
    "history = model.fit(x_train,y_train,epochs=100,batch_size=1024,validation_split=0.2)\n",
    "pyplot.plot(history.history['loss'], label='train')\n",
    "pyplot.plot(history.history['val_loss'], label='validation')\n",
    "pyplot.legend()\n",
    "pyplot.show()"
   ]
  },
  {
   "cell_type": "code",
   "execution_count": 22,
   "metadata": {
    "colab": {
     "base_uri": "https://localhost:8080/",
     "height": 265
    },
    "colab_type": "code",
    "id": "KhV-INlomkMX",
    "outputId": "aba2e77e-3863-4da8-b47f-05708b795aef"
   },
   "outputs": [
    {
     "data": {
      "image/png": "[encoded data removed]",
      "text/plain": [
       "<Figure size 432x288 with 1 Axes>"
      ]
     },
     "metadata": {
      "needs_background": "light",
      "tags": []
     },
     "output_type": "display_data"
    }
   ],
   "source": [
    "pyplot.plot(history.history['categorical_accuracy'], label='train')\n",
    "pyplot.plot(history.history['val_categorical_accuracy'], label='validation')\n",
    "pyplot.legend()\n",
    "pyplot.show()"
   ]
  },
  {
   "cell_type": "code",
   "execution_count": 23,
   "metadata": {
    "colab": {
     "base_uri": "https://localhost:8080/",
     "height": 53
    },
    "colab_type": "code",
    "id": "AawVpicFR35q",
    "outputId": "85bc30d4-d57a-487a-b84a-5676c7a7b49b"
   },
   "outputs": [
    {
     "name": "stdout",
     "output_type": "stream",
     "text": [
      "767/767 [==============================] - 5s 6ms/step - loss: 0.6961 - categorical_accuracy: 0.7843\n"
     ]
    },
    {
     "data": {
      "text/plain": [
       "[0.6960575580596924, 0.7842586040496826]"
      ]
     },
     "execution_count": 23,
     "metadata": {
      "tags": []
     },
     "output_type": "execute_result"
    }
   ],
   "source": [
    "model.evaluate(x_test,y_test)"
   ]
  },
  {
   "cell_type": "code",
   "execution_count": 24,
   "metadata": {
    "colab": {},
    "colab_type": "code",
    "id": "LjKDqVf6SP1T"
   },
   "outputs": [],
   "source": [
    "def demo(dem):\n",
    "  reverse_lang_index = dict(map(reversed, lang_index.items()))\n",
    "  demo_s = clean_text(dem)\n",
    "  demo_s = np.array(tokenizer.texts_to_sequences(demo_s))\n",
    "  demo_s = demo_s.reshape((1,demo_s.shape[0]))\n",
    "  demo_s = pad_sequences(demo_s, maxlen=76, padding=\"pre\", truncating=\"post\")\n",
    "  pred = np.around(model.predict(demo_s))\n",
    "  num = np.argmax(pred)\n",
    "  langu_age = reverse_lang_index[num]\n",
    "  return langu_age"
   ]
  },
  {
   "cell_type": "code",
   "execution_count": 25,
   "metadata": {
    "colab": {
     "base_uri": "https://localhost:8080/",
     "height": 36
    },
    "colab_type": "code",
    "id": "RSdAcurIaJ50",
    "outputId": "f857dd2f-3331-422b-b57b-cb32db39639f"
   },
   "outputs": [
    {
     "data": {
      "application/vnd.google.colaboratory.intrinsic+json": {
       "type": "string"
      },
      "text/plain": [
       "'python'"
      ]
     },
     "execution_count": 25,
     "metadata": {
      "tags": []
     },
     "output_type": "execute_result"
    }
   ],
   "source": [
    "demo('How to pause and resume a while loop in Python? I want to have a loop running that will print \"Hello\" and when I press \"K\" it stops printing but it does not end the program, then when I press \"K\" again it starts printing again.')"
   ]
  }
 ],
 "metadata": {
  "accelerator": "GPU",
  "colab": {
   "collapsed_sections": [],
   "name": "Untitled5.ipynb",
   "provenance": []
  },
  "kernelspec": {
   "display_name": "Python 3",
   "language": "python",
   "name": "python3"
  },
  "language_info": {
   "codemirror_mode": {
    "name": "ipython",
    "version": 3
   },
   "file_extension": ".py",
   "mimetype": "text/x-python",
   "name": "python",
   "nbconvert_exporter": "python",
   "pygments_lexer": "ipython3",
   "version": "3.7.6"
  }
 },
 "nbformat": 4,
 "nbformat_minor": 1
}
