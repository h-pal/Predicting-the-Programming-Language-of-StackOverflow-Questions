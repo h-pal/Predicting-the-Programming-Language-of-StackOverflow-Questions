{
 "cells": [
  {
   "cell_type": "markdown",
   "metadata": {},
   "source": [
    "### Import required libraries"
   ]
  },
  {
   "cell_type": "code",
   "execution_count": 1,
   "metadata": {
    "colab": {},
    "colab_type": "code",
    "id": "O_gYrK4YECT4"
   },
   "outputs": [],
   "source": [
    "from tensorflow.keras.preprocessing.text import Tokenizer\n",
    "from tensorflow.keras.utils import to_categorical\n",
    "from tensorflow.keras.preprocessing.sequence import pad_sequences\n",
    "import numpy as np\n",
    "from tensorflow.keras.models import Sequential\n",
    "from tensorflow.keras.layers import Dense,Dropout,LSTM,Embedding\n",
    "from tensorflow.keras import optimizers\n",
    "from tensorflow.keras import metrics\n",
    "import pandas as pd\n",
    "import nltk\n",
    "import re\n",
    "from matplotlib import pyplot"
   ]
  },
  {
   "cell_type": "markdown",
   "metadata": {},
   "source": [
    "### Download NLTK packages"
   ]
  },
  {
   "cell_type": "code",
   "execution_count": 2,
   "metadata": {
    "colab": {
     "base_uri": "https://localhost:8080/",
     "height": 144
    },
    "colab_type": "code",
    "id": "gSD-UKuH66iU",
    "outputId": "e6b3c00a-65bd-43b9-ff26-58604db1eb6e"
   },
   "outputs": [
    {
     "name": "stdout",
     "output_type": "stream",
     "text": [
      "[nltk_data] Downloading package stopwords to /root/nltk_data...\n",
      "[nltk_data]   Package stopwords is already up-to-date!\n",
      "[nltk_data] Downloading package wordnet to /root/nltk_data...\n",
      "[nltk_data]   Package wordnet is already up-to-date!\n",
      "[nltk_data] Downloading package punkt to /root/nltk_data...\n",
      "[nltk_data]   Package punkt is already up-to-date!\n"
     ]
    },
    {
     "data": {
      "text/plain": [
       "True"
      ]
     },
     "execution_count": 2,
     "metadata": {
      "tags": []
     },
     "output_type": "execute_result"
    }
   ],
   "source": [
    "nltk.download('stopwords')\n",
    "nltk.download('wordnet')\n",
    "nltk.download('punkt')"
   ]
  },
  {
   "cell_type": "markdown",
   "metadata": {},
   "source": [
    "### Defining the sample space of possible language for target values"
   ]
  },
  {
   "cell_type": "code",
   "execution_count": 3,
   "metadata": {
    "colab": {},
    "colab_type": "code",
    "id": "uQa7CbhXJhhb"
   },
   "outputs": [],
   "source": [
    "lang=['javascript','sql','python','java','c#','php','c++','c','ruby','swift','r','vba','objective-c','scala','html','shell']\n",
    "lang_index = dict(zip(lang,(i for i in range(len(lang)))))\n",
    "reverse_lang_index = dict(map(reversed, lang_index.items()))"
   ]
  },
  {
   "cell_type": "markdown",
   "metadata": {},
   "source": [
    "### Load and filter the datasets based on above defined sample space of languages\n",
    "NOTE :- I am considering HTML/CSS as one single language and Bash/Shell/PowerShell as one single language"
   ]
  },
  {
   "cell_type": "code",
   "execution_count": 4,
   "metadata": {
    "colab": {},
    "colab_type": "code",
    "id": "3BtHcip60LYL"
   },
   "outputs": [],
   "source": [
    "sf_tags = pd.read_csv(r'..../Tags.csv',encoding=\"ISO-8859-1\",)\n",
    "sf_tags = sf_tags.loc[sf_tags['Tag'].isin(lang)]\n",
    "sf_tags = sf_tags.drop_duplicates(subset='Id')\n",
    "sf_qstn = pd.read_csv(r'...../Questions.csv',encoding=\"ISO-8859-1\")\n",
    "sf_qstn = sf_qstn.loc[sf_qstn['Id'].isin(sf_tags['Id'])]\n",
    "sf_tags.Tag.replace(to_replace=dict(css='html',bash='shell',powershell='shell'), inplace=True)\n",
    "sf_tags.set_index('Id',inplace=True)\n",
    "sf_qstn.set_index('Id',inplace=True)"
   ]
  },
  {
   "cell_type": "code",
   "execution_count": 5,
   "metadata": {
    "colab": {
     "base_uri": "https://localhost:8080/",
     "height": 394
    },
    "colab_type": "code",
    "id": "5fQcBghdiZe5",
    "outputId": "e976f1a1-3971-4031-b307-f23930740dcc"
   },
   "outputs": [
    {
     "data": {
      "text/html": [
       "<div>\n",
       "<style scoped>\n",
       "    .dataframe tbody tr th:only-of-type {\n",
       "        vertical-align: middle;\n",
       "    }\n",
       "\n",
       "    .dataframe tbody tr th {\n",
       "        vertical-align: top;\n",
       "    }\n",
       "\n",
       "    .dataframe thead th {\n",
       "        text-align: right;\n",
       "    }\n",
       "</style>\n",
       "<table border=\"1\" class=\"dataframe\">\n",
       "  <thead>\n",
       "    <tr style=\"text-align: right;\">\n",
       "      <th></th>\n",
       "      <th>OwnerUserId</th>\n",
       "      <th>CreationDate</th>\n",
       "      <th>ClosedDate</th>\n",
       "      <th>Score</th>\n",
       "      <th>Title</th>\n",
       "      <th>Body</th>\n",
       "    </tr>\n",
       "    <tr>\n",
       "      <th>Id</th>\n",
       "      <th></th>\n",
       "      <th></th>\n",
       "      <th></th>\n",
       "      <th></th>\n",
       "      <th></th>\n",
       "      <th></th>\n",
       "    </tr>\n",
       "  </thead>\n",
       "  <tbody>\n",
       "    <tr>\n",
       "      <th>120</th>\n",
       "      <td>83.0</td>\n",
       "      <td>2008-08-01T15:50:08Z</td>\n",
       "      <td>NaN</td>\n",
       "      <td>21</td>\n",
       "      <td>ASP.NET Site Maps</td>\n",
       "      <td>&lt;p&gt;Has anyone got experience creating &lt;strong&gt;...</td>\n",
       "    </tr>\n",
       "    <tr>\n",
       "      <th>260</th>\n",
       "      <td>91.0</td>\n",
       "      <td>2008-08-01T23:22:08Z</td>\n",
       "      <td>NaN</td>\n",
       "      <td>49</td>\n",
       "      <td>Adding scripting functionality to .NET applica...</td>\n",
       "      <td>&lt;p&gt;I have a little game written in C#. It uses...</td>\n",
       "    </tr>\n",
       "    <tr>\n",
       "      <th>330</th>\n",
       "      <td>63.0</td>\n",
       "      <td>2008-08-02T02:51:36Z</td>\n",
       "      <td>NaN</td>\n",
       "      <td>29</td>\n",
       "      <td>Should I use nested classes in this case?</td>\n",
       "      <td>&lt;p&gt;I am working on a collection of classes use...</td>\n",
       "    </tr>\n",
       "    <tr>\n",
       "      <th>650</th>\n",
       "      <td>143.0</td>\n",
       "      <td>2008-08-03T11:12:52Z</td>\n",
       "      <td>NaN</td>\n",
       "      <td>79</td>\n",
       "      <td>Automatically update version number</td>\n",
       "      <td>&lt;p&gt;I would like the version property of my app...</td>\n",
       "    </tr>\n",
       "    <tr>\n",
       "      <th>930</th>\n",
       "      <td>245.0</td>\n",
       "      <td>2008-08-04T00:47:25Z</td>\n",
       "      <td>NaN</td>\n",
       "      <td>28</td>\n",
       "      <td>How do I connect to a database and loop over a...</td>\n",
       "      <td>&lt;p&gt;What's the simplest way to connect and quer...</td>\n",
       "    </tr>\n",
       "    <tr>\n",
       "      <th>1010</th>\n",
       "      <td>67.0</td>\n",
       "      <td>2008-08-04T03:59:42Z</td>\n",
       "      <td>NaN</td>\n",
       "      <td>14</td>\n",
       "      <td>How to get the value of built, encoded ViewState?</td>\n",
       "      <td>&lt;p&gt;I need to grab the base64-encoded represent...</td>\n",
       "    </tr>\n",
       "    <tr>\n",
       "      <th>1040</th>\n",
       "      <td>254.0</td>\n",
       "      <td>2008-08-04T05:45:22Z</td>\n",
       "      <td>NaN</td>\n",
       "      <td>42</td>\n",
       "      <td>How do I delete a file which is locked by anot...</td>\n",
       "      <td>&lt;p&gt;I'm looking for a way to delete a file whic...</td>\n",
       "    </tr>\n",
       "    <tr>\n",
       "      <th>1760</th>\n",
       "      <td>234.0</td>\n",
       "      <td>2008-08-05T00:51:49Z</td>\n",
       "      <td>NaN</td>\n",
       "      <td>51</td>\n",
       "      <td>.NET Unit Testing packages?</td>\n",
       "      <td>&lt;p&gt;Getting back into a bit more .NET after a f...</td>\n",
       "    </tr>\n",
       "    <tr>\n",
       "      <th>1970</th>\n",
       "      <td>116.0</td>\n",
       "      <td>2008-08-05T06:39:31Z</td>\n",
       "      <td>NaN</td>\n",
       "      <td>10</td>\n",
       "      <td>What language do you use for PostgreSQL trigge...</td>\n",
       "      <td>&lt;p&gt;PostgreSQL is interesting in that it suppor...</td>\n",
       "    </tr>\n",
       "    <tr>\n",
       "      <th>2120</th>\n",
       "      <td>383.0</td>\n",
       "      <td>2008-08-05T11:49:11Z</td>\n",
       "      <td>NaN</td>\n",
       "      <td>77</td>\n",
       "      <td>Convert HashBytes to VarChar</td>\n",
       "      <td>&lt;p&gt;I want to get the MD5 Hash of a string valu...</td>\n",
       "    </tr>\n",
       "  </tbody>\n",
       "</table>\n",
       "</div>"
      ],
      "text/plain": [
       "      OwnerUserId  ...                                               Body\n",
       "Id                 ...                                                   \n",
       "120          83.0  ...  <p>Has anyone got experience creating <strong>...\n",
       "260          91.0  ...  <p>I have a little game written in C#. It uses...\n",
       "330          63.0  ...  <p>I am working on a collection of classes use...\n",
       "650         143.0  ...  <p>I would like the version property of my app...\n",
       "930         245.0  ...  <p>What's the simplest way to connect and quer...\n",
       "1010         67.0  ...  <p>I need to grab the base64-encoded represent...\n",
       "1040        254.0  ...  <p>I'm looking for a way to delete a file whic...\n",
       "1760        234.0  ...  <p>Getting back into a bit more .NET after a f...\n",
       "1970        116.0  ...  <p>PostgreSQL is interesting in that it suppor...\n",
       "2120        383.0  ...  <p>I want to get the MD5 Hash of a string valu...\n",
       "\n",
       "[10 rows x 6 columns]"
      ]
     },
     "execution_count": 5,
     "metadata": {
      "tags": []
     },
     "output_type": "execute_result"
    }
   ],
   "source": [
    "sf_qstn.head(10)"
   ]
  },
  {
   "cell_type": "code",
   "execution_count": 6,
   "metadata": {
    "colab": {
     "base_uri": "https://localhost:8080/",
     "height": 394
    },
    "colab_type": "code",
    "id": "AGY6Al5ciccS",
    "outputId": "db99bc74-72e7-4843-f616-415b93f794c1"
   },
   "outputs": [
    {
     "data": {
      "text/html": [
       "<div>\n",
       "<style scoped>\n",
       "    .dataframe tbody tr th:only-of-type {\n",
       "        vertical-align: middle;\n",
       "    }\n",
       "\n",
       "    .dataframe tbody tr th {\n",
       "        vertical-align: top;\n",
       "    }\n",
       "\n",
       "    .dataframe thead th {\n",
       "        text-align: right;\n",
       "    }\n",
       "</style>\n",
       "<table border=\"1\" class=\"dataframe\">\n",
       "  <thead>\n",
       "    <tr style=\"text-align: right;\">\n",
       "      <th></th>\n",
       "      <th>Tag</th>\n",
       "    </tr>\n",
       "    <tr>\n",
       "      <th>Id</th>\n",
       "      <th></th>\n",
       "    </tr>\n",
       "  </thead>\n",
       "  <tbody>\n",
       "    <tr>\n",
       "      <th>120</th>\n",
       "      <td>sql</td>\n",
       "    </tr>\n",
       "    <tr>\n",
       "      <th>260</th>\n",
       "      <td>c#</td>\n",
       "    </tr>\n",
       "    <tr>\n",
       "      <th>330</th>\n",
       "      <td>c++</td>\n",
       "    </tr>\n",
       "    <tr>\n",
       "      <th>650</th>\n",
       "      <td>c#</td>\n",
       "    </tr>\n",
       "    <tr>\n",
       "      <th>930</th>\n",
       "      <td>c#</td>\n",
       "    </tr>\n",
       "    <tr>\n",
       "      <th>1010</th>\n",
       "      <td>c#</td>\n",
       "    </tr>\n",
       "    <tr>\n",
       "      <th>1040</th>\n",
       "      <td>c#</td>\n",
       "    </tr>\n",
       "    <tr>\n",
       "      <th>1760</th>\n",
       "      <td>c#</td>\n",
       "    </tr>\n",
       "    <tr>\n",
       "      <th>1970</th>\n",
       "      <td>sql</td>\n",
       "    </tr>\n",
       "    <tr>\n",
       "      <th>2120</th>\n",
       "      <td>sql</td>\n",
       "    </tr>\n",
       "  </tbody>\n",
       "</table>\n",
       "</div>"
      ],
      "text/plain": [
       "      Tag\n",
       "Id       \n",
       "120   sql\n",
       "260    c#\n",
       "330   c++\n",
       "650    c#\n",
       "930    c#\n",
       "1010   c#\n",
       "1040   c#\n",
       "1760   c#\n",
       "1970  sql\n",
       "2120  sql"
      ]
     },
     "execution_count": 6,
     "metadata": {
      "tags": []
     },
     "output_type": "execute_result"
    }
   ],
   "source": [
    "sf_tags.head(10)"
   ]
  },
  {
   "cell_type": "markdown",
   "metadata": {},
   "source": [
    "### Merge the two datasets"
   ]
  },
  {
   "cell_type": "code",
   "execution_count": 7,
   "metadata": {
    "colab": {
     "base_uri": "https://localhost:8080/",
     "height": 394
    },
    "colab_type": "code",
    "id": "80IaW6uFqPX5",
    "outputId": "d9c0f53b-3c47-4d55-e908-e5e8f9fbf7c3"
   },
   "outputs": [
    {
     "data": {
      "text/html": [
       "<div>\n",
       "<style scoped>\n",
       "    .dataframe tbody tr th:only-of-type {\n",
       "        vertical-align: middle;\n",
       "    }\n",
       "\n",
       "    .dataframe tbody tr th {\n",
       "        vertical-align: top;\n",
       "    }\n",
       "\n",
       "    .dataframe thead th {\n",
       "        text-align: right;\n",
       "    }\n",
       "</style>\n",
       "<table border=\"1\" class=\"dataframe\">\n",
       "  <thead>\n",
       "    <tr style=\"text-align: right;\">\n",
       "      <th></th>\n",
       "      <th>Title</th>\n",
       "      <th>Body</th>\n",
       "      <th>Tag</th>\n",
       "    </tr>\n",
       "    <tr>\n",
       "      <th>Id</th>\n",
       "      <th></th>\n",
       "      <th></th>\n",
       "      <th></th>\n",
       "    </tr>\n",
       "  </thead>\n",
       "  <tbody>\n",
       "    <tr>\n",
       "      <th>120</th>\n",
       "      <td>ASP.NET Site Maps</td>\n",
       "      <td>&lt;p&gt;Has anyone got experience creating &lt;strong&gt;...</td>\n",
       "      <td>sql</td>\n",
       "    </tr>\n",
       "    <tr>\n",
       "      <th>260</th>\n",
       "      <td>Adding scripting functionality to .NET applica...</td>\n",
       "      <td>&lt;p&gt;I have a little game written in C#. It uses...</td>\n",
       "      <td>c#</td>\n",
       "    </tr>\n",
       "    <tr>\n",
       "      <th>330</th>\n",
       "      <td>Should I use nested classes in this case?</td>\n",
       "      <td>&lt;p&gt;I am working on a collection of classes use...</td>\n",
       "      <td>c++</td>\n",
       "    </tr>\n",
       "    <tr>\n",
       "      <th>650</th>\n",
       "      <td>Automatically update version number</td>\n",
       "      <td>&lt;p&gt;I would like the version property of my app...</td>\n",
       "      <td>c#</td>\n",
       "    </tr>\n",
       "    <tr>\n",
       "      <th>930</th>\n",
       "      <td>How do I connect to a database and loop over a...</td>\n",
       "      <td>&lt;p&gt;What's the simplest way to connect and quer...</td>\n",
       "      <td>c#</td>\n",
       "    </tr>\n",
       "    <tr>\n",
       "      <th>1010</th>\n",
       "      <td>How to get the value of built, encoded ViewState?</td>\n",
       "      <td>&lt;p&gt;I need to grab the base64-encoded represent...</td>\n",
       "      <td>c#</td>\n",
       "    </tr>\n",
       "    <tr>\n",
       "      <th>1040</th>\n",
       "      <td>How do I delete a file which is locked by anot...</td>\n",
       "      <td>&lt;p&gt;I'm looking for a way to delete a file whic...</td>\n",
       "      <td>c#</td>\n",
       "    </tr>\n",
       "    <tr>\n",
       "      <th>1760</th>\n",
       "      <td>.NET Unit Testing packages?</td>\n",
       "      <td>&lt;p&gt;Getting back into a bit more .NET after a f...</td>\n",
       "      <td>c#</td>\n",
       "    </tr>\n",
       "    <tr>\n",
       "      <th>1970</th>\n",
       "      <td>What language do you use for PostgreSQL trigge...</td>\n",
       "      <td>&lt;p&gt;PostgreSQL is interesting in that it suppor...</td>\n",
       "      <td>sql</td>\n",
       "    </tr>\n",
       "    <tr>\n",
       "      <th>2120</th>\n",
       "      <td>Convert HashBytes to VarChar</td>\n",
       "      <td>&lt;p&gt;I want to get the MD5 Hash of a string valu...</td>\n",
       "      <td>sql</td>\n",
       "    </tr>\n",
       "  </tbody>\n",
       "</table>\n",
       "</div>"
      ],
      "text/plain": [
       "                                                  Title  ...  Tag\n",
       "Id                                                       ...     \n",
       "120                                   ASP.NET Site Maps  ...  sql\n",
       "260   Adding scripting functionality to .NET applica...  ...   c#\n",
       "330           Should I use nested classes in this case?  ...  c++\n",
       "650                 Automatically update version number  ...   c#\n",
       "930   How do I connect to a database and loop over a...  ...   c#\n",
       "1010  How to get the value of built, encoded ViewState?  ...   c#\n",
       "1040  How do I delete a file which is locked by anot...  ...   c#\n",
       "1760                        .NET Unit Testing packages?  ...   c#\n",
       "1970  What language do you use for PostgreSQL trigge...  ...  sql\n",
       "2120                       Convert HashBytes to VarChar  ...  sql\n",
       "\n",
       "[10 rows x 3 columns]"
      ]
     },
     "execution_count": 7,
     "metadata": {
      "tags": []
     },
     "output_type": "execute_result"
    }
   ],
   "source": [
    "col_merged = pd.concat([sf_qstn[['Title','Body']], sf_tags[['Tag']]], axis=1)\n",
    "col_merged.head(10)"
   ]
  },
  {
   "cell_type": "markdown",
   "metadata": {},
   "source": [
    "### This step include two steps :-\n",
    "\n",
    "i) Truncate the combined dataset into 10000 or less datapoints per language\n",
    "\n",
    "ii) Convert the target values into One-hot Encoding of their respective language"
   ]
  },
  {
   "cell_type": "code",
   "execution_count": 8,
   "metadata": {
    "colab": {},
    "colab_type": "code",
    "id": "JVi4UV7tT33b"
   },
   "outputs": [],
   "source": [
    "data=[]\n",
    "for i in lang:\n",
    "  is_lan = col_merged['Tag'] == i\n",
    "  store = col_merged[is_lan]\n",
    "  if(store.shape[0]>10000):\n",
    "    store = store.iloc[:10000,]\n",
    "  for j in range(store.shape[0]):\n",
    "    data.append(store.iloc[j])\n",
    "\n",
    "\n",
    "data = pd.DataFrame(data)\n",
    "data = data.sample(frac=1).reset_index(drop=True)\n",
    "data.columns=['Title','Body','Tag']\n",
    "tag_count = data['Tag'].value_counts().to_dict()\n",
    "data['Questions']=data['Title'] + data['Body']\n",
    "data['Tag'] = data['Tag'].apply(lambda x: lang_index[x])\n",
    "data['Tag']=data['Tag'].apply(lambda x: to_categorical(x,num_classes=16))"
   ]
  },
  {
   "cell_type": "code",
   "execution_count": 9,
   "metadata": {
    "colab": {
     "base_uri": "https://localhost:8080/",
     "height": 308
    },
    "colab_type": "code",
    "id": "qm7g1WtJpBcQ",
    "outputId": "ba306dc3-c8bf-4a31-b393-0a660abd9dde"
   },
   "outputs": [
    {
     "data": {
      "text/plain": [
       "{'c': 10000,\n",
       " 'c#': 10000,\n",
       " 'c++': 10000,\n",
       " 'html': 10000,\n",
       " 'java': 10000,\n",
       " 'javascript': 10000,\n",
       " 'objective-c': 10000,\n",
       " 'php': 10000,\n",
       " 'python': 10000,\n",
       " 'r': 10000,\n",
       " 'ruby': 10000,\n",
       " 'scala': 5101,\n",
       " 'shell': 4125,\n",
       " 'sql': 10000,\n",
       " 'swift': 10000,\n",
       " 'vba': 6442}"
      ]
     },
     "execution_count": 9,
     "metadata": {
      "tags": []
     },
     "output_type": "execute_result"
    }
   ],
   "source": [
    "tag_count"
   ]
  },
  {
   "cell_type": "code",
   "execution_count": 11,
   "metadata": {
    "colab": {},
    "colab_type": "code",
    "id": "-YrC0LW_nakg"
   },
   "outputs": [],
   "source": [
    "from nltk import word_tokenize\n",
    "def remove_html_tags(text):\n",
    "  \"\"\"Remove html tags from a string\"\"\"\n",
    "  clean = re.compile('<.*?>')\n",
    "  return re.sub(clean, '', text)\n",
    "\n",
    "def expand_contractions(text):\n",
    "  from contractions import  contractions_dict\n",
    "  pattern = re.compile(\"({})\".format(\"|\".join( contractions_dict.keys())),flags = re.DOTALL| re.IGNORECASE)\n",
    "    \n",
    "  def replace_text(t):\n",
    "    txt = t.group(0)\n",
    "    if txt.lower() in  contractions_dict.keys():\n",
    "      return  contractions_dict[txt.lower()]\n",
    "        \n",
    "  expand_text = pattern.sub(replace_text,text)\n",
    "  return expand_text \n",
    "\n",
    "def clean_text(text):\n",
    "  filters = '!\"$%&\\'()*,-./:;<=>?@[\\\\]^_`{|}~0123456789'\n",
    "  text = \"\".join([word for word in text if word not in filters])\n",
    "  stop_wor = nltk.corpus.stopwords.words('english')\n",
    "  text = [word for word in word_tokenize(text) if word not in stop_wor]\n",
    "  wn = nltk.WordNetLemmatizer()\n",
    "  text = [wn.lemmatize(word) for word in text]\n",
    "  return text"
   ]
  },
  {
   "cell_type": "markdown",
   "metadata": {},
   "source": [
    "### Pre-processing the dataset\n",
    "i) Remove the HTML tags from the text corpus\n",
    "\n",
    "ii) Remove the cotractions from the text corpus\n",
    "\n",
    "iii) Clean the text corpus by removing all punctuations, stop words and doing lemmatization on the corpus"
   ]
  },
  {
   "cell_type": "code",
   "execution_count": 12,
   "metadata": {
    "colab": {},
    "colab_type": "code",
    "id": "GtRuTGVQnygg"
   },
   "outputs": [],
   "source": [
    "data['Questions']=data['Questions'].apply(lambda x: remove_html_tags(x.lower()))\n",
    "data['Questions']=data['Questions'].apply(lambda x: expand_contractions(x))\n",
    "data['Questions']=data['Questions'].apply(lambda x: clean_text(x))"
   ]
  },
  {
   "cell_type": "markdown",
   "metadata": {},
   "source": [
    "### Using Tokenizer to convert words to vectors"
   ]
  },
  {
   "cell_type": "code",
   "execution_count": 13,
   "metadata": {
    "colab": {},
    "colab_type": "code",
    "id": "7ehWED6VFDjV"
   },
   "outputs": [],
   "source": [
    "size= 121134\n",
    "tokenizer = Tokenizer(num_words = None,oov_token=\"<OOV>\",filters='')\n",
    "tokenizer.fit_on_texts(data['Questions'][:size])\n",
    "word_index = tokenizer.word_index\n",
    "sequences_train = tokenizer.texts_to_sequences(data['Questions'][:size])\n",
    "sequences_train = np.array(sequences_train)\n",
    "sequences_train = pad_sequences(sequences_train, maxlen=76, padding=\"pre\", truncating=\"post\")\n",
    "\n",
    "sequences_test = tokenizer.texts_to_sequences(data['Questions'][size:])\n",
    "sequences_test = np.array(sequences_test)\n",
    "sequences_test = pad_sequences(sequences_test, maxlen=76, padding=\"pre\", truncating=\"post\")"
   ]
  },
  {
   "cell_type": "markdown",
   "metadata": {},
   "source": [
    "### Splitting the dataset into train and test set"
   ]
  },
  {
   "cell_type": "code",
   "execution_count": 14,
   "metadata": {
    "colab": {},
    "colab_type": "code",
    "id": "5dyzLeTbFG6C"
   },
   "outputs": [],
   "source": [
    "x_train = sequences_train\n",
    "y_train = np.array(data['Tag'][:size])\n",
    "y_train = np.stack( y_train, axis=0 )\n",
    "\n",
    "x_test = sequences_test\n",
    "y_test = np.array(data['Tag'][size:])\n",
    "y_test= np.stack( y_test, axis=0 )"
   ]
  },
  {
   "cell_type": "markdown",
   "metadata": {},
   "source": [
    "### Preparaing the weight matrix of embedding layer"
   ]
  },
  {
   "cell_type": "code",
   "execution_count": 15,
   "metadata": {
    "colab": {
     "base_uri": "https://localhost:8080/",
     "height": 35
    },
    "colab_type": "code",
    "id": "jh3O6V21ITtT",
    "outputId": "298b6db1-1860-4f23-f108-51f46bcde915"
   },
   "outputs": [
    {
     "name": "stdout",
     "output_type": "stream",
     "text": [
      "Loaded 400000 word vectors.\n"
     ]
    }
   ],
   "source": [
    "size_of_vocabulary = len(word_index) + 1\n",
    "embeddings_index = dict()\n",
    "f = open(r'glove.6B.300d.txt',encoding=\"utf8\")\n",
    "\n",
    "for line in f:\n",
    "  values = line.split()\n",
    "  word = values[0]\n",
    "  coefs = np.asarray(values[1:], dtype='float32')\n",
    "  embeddings_index[word] = coefs\n",
    "\n",
    "f.close()\n",
    "print('Loaded %s word vectors.' % len(embeddings_index))\n",
    "\n",
    "embedding_matrix = np.zeros((size_of_vocabulary, 300))\n",
    "\n",
    "for word, i in tokenizer.word_index.items():\n",
    "  embedding_vector = embeddings_index.get(word)\n",
    "  if embedding_vector is not None:\n",
    "      embedding_matrix[i] = embedding_vector"
   ]
  },
  {
   "cell_type": "markdown",
   "metadata": {},
   "source": [
    "### Initializing the model\n",
    "We are using :-\n",
    "\n",
    "i) Sequential model with one non trainable embedding layer and three LSTM layers\n",
    "\n",
    "ii) Dropout to prevent overfitting"
   ]
  },
  {
   "cell_type": "code",
   "execution_count": 16,
   "metadata": {
    "colab": {},
    "colab_type": "code",
    "id": "ew-4Gz_cHFfG"
   },
   "outputs": [],
   "source": [
    "model = Sequential()\n",
    "model.add(Embedding(size_of_vocabulary,300,weights=[embedding_matrix],input_length=76,trainable=False))\n",
    "model.add(LSTM(64,return_sequences=True,dropout=0.5))\n",
    "model.add(LSTM(64,return_sequences=True,dropout=0.5))\n",
    "model.add(LSTM(64,dropout=0.5))\n",
    "model.add(Dense(16,activation='softmax'))"
   ]
  },
  {
   "cell_type": "markdown",
   "metadata": {},
   "source": [
    "### Compiling the model\n",
    "We are using categorical cross entropy loss function and categorical accuracy for metrics evalation with adam optimizer"
   ]
  },
  {
   "cell_type": "code",
   "execution_count": 17,
   "metadata": {
    "colab": {},
    "colab_type": "code",
    "id": "3J7ZeI-xFNTT"
   },
   "outputs": [],
   "source": [
    "model.compile(loss='categorical_crossentropy',optimizer='adam',metrics = [metrics.CategoricalAccuracy()])"
   ]
  },
  {
   "cell_type": "markdown",
   "metadata": {},
   "source": [
    "### Fitting model"
   ]
  },
  {
   "cell_type": "code",
   "execution_count": 18,
   "metadata": {
    "colab": {
     "base_uri": "https://localhost:8080/",
     "height": 1000
    },
    "colab_type": "code",
    "id": "SrzC52XkFQQf",
    "outputId": "5c4bcccd-9b59-4ddb-b0ad-9552a70cb6f1"
   },
   "outputs": [
    {
     "name": "stdout",
     "output_type": "stream",
     "text": [
      "Epoch 1/100\n",
      "95/95 [==============================] - 9s 96ms/step - loss: 2.1833 - categorical_accuracy: 0.3042 - val_loss: 1.5764 - val_categorical_accuracy: 0.5075\n",
      "Epoch 2/100\n",
      "95/95 [==============================] - 8s 81ms/step - loss: 1.4948 - categorical_accuracy: 0.5367 - val_loss: 1.2025 - val_categorical_accuracy: 0.6331\n",
      "Epoch 3/100\n",
      "95/95 [==============================] - 8s 81ms/step - loss: 1.2383 - categorical_accuracy: 0.6242 - val_loss: 1.0432 - val_categorical_accuracy: 0.6883\n",
      "Epoch 4/100\n",
      "95/95 [==============================] - 8s 80ms/step - loss: 1.1067 - categorical_accuracy: 0.6681 - val_loss: 0.9703 - val_categorical_accuracy: 0.7103\n",
      "Epoch 5/100\n",
      "95/95 [==============================] - 8s 81ms/step - loss: 1.0169 - categorical_accuracy: 0.6956 - val_loss: 0.8959 - val_categorical_accuracy: 0.7322\n",
      "Epoch 6/100\n",
      "95/95 [==============================] - 8s 81ms/step - loss: 0.9528 - categorical_accuracy: 0.7140 - val_loss: 0.8606 - val_categorical_accuracy: 0.7426\n",
      "Epoch 7/100\n",
      "95/95 [==============================] - 8s 81ms/step - loss: 0.9120 - categorical_accuracy: 0.7254 - val_loss: 0.8347 - val_categorical_accuracy: 0.7485\n",
      "Epoch 8/100\n",
      "95/95 [==============================] - 8s 80ms/step - loss: 0.8777 - categorical_accuracy: 0.7342 - val_loss: 0.8031 - val_categorical_accuracy: 0.7580\n",
      "Epoch 9/100\n",
      "95/95 [==============================] - 8s 81ms/step - loss: 0.8437 - categorical_accuracy: 0.7440 - val_loss: 0.7755 - val_categorical_accuracy: 0.7645\n",
      "Epoch 10/100\n",
      "95/95 [==============================] - 8s 83ms/step - loss: 0.8168 - categorical_accuracy: 0.7505 - val_loss: 0.7663 - val_categorical_accuracy: 0.7660\n",
      "Epoch 11/100\n",
      "95/95 [==============================] - 8s 81ms/step - loss: 0.7945 - categorical_accuracy: 0.7583 - val_loss: 0.7421 - val_categorical_accuracy: 0.7736\n",
      "Epoch 12/100\n",
      "95/95 [==============================] - 8s 83ms/step - loss: 0.7784 - categorical_accuracy: 0.7614 - val_loss: 0.7340 - val_categorical_accuracy: 0.7760\n",
      "Epoch 13/100\n",
      "95/95 [==============================] - 8s 81ms/step - loss: 0.7653 - categorical_accuracy: 0.7657 - val_loss: 0.7133 - val_categorical_accuracy: 0.7817\n",
      "Epoch 14/100\n",
      "95/95 [==============================] - 8s 83ms/step - loss: 0.7472 - categorical_accuracy: 0.7699 - val_loss: 0.7087 - val_categorical_accuracy: 0.7824\n",
      "Epoch 15/100\n",
      "95/95 [==============================] - 8s 83ms/step - loss: 0.7332 - categorical_accuracy: 0.7737 - val_loss: 0.7030 - val_categorical_accuracy: 0.7831\n",
      "Epoch 16/100\n",
      "95/95 [==============================] - 8s 81ms/step - loss: 0.7254 - categorical_accuracy: 0.7748 - val_loss: 0.6860 - val_categorical_accuracy: 0.7893\n",
      "Epoch 17/100\n",
      "95/95 [==============================] - 8s 82ms/step - loss: 0.7140 - categorical_accuracy: 0.7792 - val_loss: 0.6792 - val_categorical_accuracy: 0.7907\n",
      "Epoch 18/100\n",
      "95/95 [==============================] - 8s 84ms/step - loss: 0.7037 - categorical_accuracy: 0.7818 - val_loss: 0.6856 - val_categorical_accuracy: 0.7894\n",
      "Epoch 19/100\n",
      "95/95 [==============================] - 8s 84ms/step - loss: 0.6948 - categorical_accuracy: 0.7843 - val_loss: 0.6738 - val_categorical_accuracy: 0.7930\n",
      "Epoch 20/100\n",
      "95/95 [==============================] - 8s 81ms/step - loss: 0.6865 - categorical_accuracy: 0.7859 - val_loss: 0.6740 - val_categorical_accuracy: 0.7941\n",
      "Epoch 21/100\n",
      "95/95 [==============================] - 8s 82ms/step - loss: 0.6794 - categorical_accuracy: 0.7877 - val_loss: 0.6566 - val_categorical_accuracy: 0.7965\n",
      "Epoch 22/100\n",
      "95/95 [==============================] - 8s 83ms/step - loss: 0.6725 - categorical_accuracy: 0.7910 - val_loss: 0.6534 - val_categorical_accuracy: 0.8005\n",
      "Epoch 23/100\n",
      "95/95 [==============================] - 8s 82ms/step - loss: 0.6665 - categorical_accuracy: 0.7909 - val_loss: 0.6471 - val_categorical_accuracy: 0.8011\n",
      "Epoch 24/100\n",
      "95/95 [==============================] - 8s 81ms/step - loss: 0.6566 - categorical_accuracy: 0.7944 - val_loss: 0.6484 - val_categorical_accuracy: 0.8006\n",
      "Epoch 25/100\n",
      "95/95 [==============================] - 8s 81ms/step - loss: 0.6558 - categorical_accuracy: 0.7943 - val_loss: 0.6496 - val_categorical_accuracy: 0.8007\n",
      "Epoch 26/100\n",
      "95/95 [==============================] - 8s 80ms/step - loss: 0.6494 - categorical_accuracy: 0.7972 - val_loss: 0.6414 - val_categorical_accuracy: 0.8038\n",
      "Epoch 27/100\n",
      "95/95 [==============================] - 8s 81ms/step - loss: 0.6407 - categorical_accuracy: 0.7982 - val_loss: 0.6436 - val_categorical_accuracy: 0.8039\n",
      "Epoch 28/100\n",
      "95/95 [==============================] - 8s 81ms/step - loss: 0.6398 - categorical_accuracy: 0.7983 - val_loss: 0.6441 - val_categorical_accuracy: 0.8037\n",
      "Epoch 29/100\n",
      "95/95 [==============================] - 8s 84ms/step - loss: 0.6336 - categorical_accuracy: 0.7995 - val_loss: 0.6404 - val_categorical_accuracy: 0.8030\n",
      "Epoch 30/100\n",
      "95/95 [==============================] - 8s 80ms/step - loss: 0.6299 - categorical_accuracy: 0.8010 - val_loss: 0.6352 - val_categorical_accuracy: 0.8053\n",
      "Epoch 31/100\n",
      "95/95 [==============================] - 8s 81ms/step - loss: 0.6231 - categorical_accuracy: 0.8040 - val_loss: 0.6253 - val_categorical_accuracy: 0.8088\n",
      "Epoch 32/100\n",
      "95/95 [==============================] - 8s 82ms/step - loss: 0.6195 - categorical_accuracy: 0.8045 - val_loss: 0.6241 - val_categorical_accuracy: 0.8091\n",
      "Epoch 33/100\n",
      "95/95 [==============================] - 8s 83ms/step - loss: 0.6153 - categorical_accuracy: 0.8058 - val_loss: 0.6243 - val_categorical_accuracy: 0.8091\n",
      "Epoch 34/100\n",
      "95/95 [==============================] - 8s 83ms/step - loss: 0.6153 - categorical_accuracy: 0.8046 - val_loss: 0.6206 - val_categorical_accuracy: 0.8098\n",
      "Epoch 35/100\n",
      "95/95 [==============================] - 8s 83ms/step - loss: 0.6109 - categorical_accuracy: 0.8059 - val_loss: 0.6203 - val_categorical_accuracy: 0.8093\n",
      "Epoch 36/100\n",
      "95/95 [==============================] - 8s 83ms/step - loss: 0.6065 - categorical_accuracy: 0.8084 - val_loss: 0.6205 - val_categorical_accuracy: 0.8081\n",
      "Epoch 37/100\n",
      "95/95 [==============================] - 8s 84ms/step - loss: 0.6032 - categorical_accuracy: 0.8080 - val_loss: 0.6159 - val_categorical_accuracy: 0.8113\n",
      "Epoch 38/100\n",
      "95/95 [==============================] - 8s 84ms/step - loss: 0.5984 - categorical_accuracy: 0.8102 - val_loss: 0.6121 - val_categorical_accuracy: 0.8101\n",
      "Epoch 39/100\n",
      "95/95 [==============================] - 8s 83ms/step - loss: 0.5973 - categorical_accuracy: 0.8104 - val_loss: 0.6127 - val_categorical_accuracy: 0.8127\n",
      "Epoch 40/100\n",
      "95/95 [==============================] - 8s 83ms/step - loss: 0.5933 - categorical_accuracy: 0.8117 - val_loss: 0.6122 - val_categorical_accuracy: 0.8126\n",
      "Epoch 41/100\n",
      "95/95 [==============================] - 8s 81ms/step - loss: 0.5916 - categorical_accuracy: 0.8116 - val_loss: 0.6153 - val_categorical_accuracy: 0.8093\n",
      "Epoch 42/100\n",
      "95/95 [==============================] - 8s 82ms/step - loss: 0.5862 - categorical_accuracy: 0.8143 - val_loss: 0.6194 - val_categorical_accuracy: 0.8103\n",
      "Epoch 43/100\n",
      "95/95 [==============================] - 8s 82ms/step - loss: 0.5850 - categorical_accuracy: 0.8121 - val_loss: 0.6037 - val_categorical_accuracy: 0.8157\n",
      "Epoch 44/100\n",
      "95/95 [==============================] - 8s 83ms/step - loss: 0.5842 - categorical_accuracy: 0.8130 - val_loss: 0.6086 - val_categorical_accuracy: 0.8131\n",
      "Epoch 45/100\n",
      "95/95 [==============================] - 8s 83ms/step - loss: 0.5792 - categorical_accuracy: 0.8145 - val_loss: 0.6088 - val_categorical_accuracy: 0.8138\n",
      "Epoch 46/100\n",
      "95/95 [==============================] - 8s 83ms/step - loss: 0.5775 - categorical_accuracy: 0.8153 - val_loss: 0.6110 - val_categorical_accuracy: 0.8128\n",
      "Epoch 47/100\n",
      "95/95 [==============================] - 8s 82ms/step - loss: 0.5763 - categorical_accuracy: 0.8155 - val_loss: 0.6085 - val_categorical_accuracy: 0.8150\n",
      "Epoch 48/100\n",
      "95/95 [==============================] - 8s 83ms/step - loss: 0.5722 - categorical_accuracy: 0.8173 - val_loss: 0.6024 - val_categorical_accuracy: 0.8169\n",
      "Epoch 49/100\n",
      "95/95 [==============================] - 8s 81ms/step - loss: 0.5694 - categorical_accuracy: 0.8187 - val_loss: 0.6084 - val_categorical_accuracy: 0.8138\n",
      "Epoch 50/100\n",
      "95/95 [==============================] - 8s 81ms/step - loss: 0.5671 - categorical_accuracy: 0.8178 - val_loss: 0.6124 - val_categorical_accuracy: 0.8114\n",
      "Epoch 51/100\n",
      "95/95 [==============================] - 8s 81ms/step - loss: 0.5698 - categorical_accuracy: 0.8187 - val_loss: 0.6100 - val_categorical_accuracy: 0.8114\n",
      "Epoch 52/100\n",
      "95/95 [==============================] - 8s 80ms/step - loss: 0.5670 - categorical_accuracy: 0.8177 - val_loss: 0.6060 - val_categorical_accuracy: 0.8143\n",
      "Epoch 53/100\n",
      "95/95 [==============================] - 8s 81ms/step - loss: 0.5615 - categorical_accuracy: 0.8204 - val_loss: 0.5992 - val_categorical_accuracy: 0.8168\n",
      "Epoch 54/100\n",
      "95/95 [==============================] - 8s 81ms/step - loss: 0.5604 - categorical_accuracy: 0.8194 - val_loss: 0.5981 - val_categorical_accuracy: 0.8175\n",
      "Epoch 55/100\n",
      "95/95 [==============================] - 8s 81ms/step - loss: 0.5602 - categorical_accuracy: 0.8204 - val_loss: 0.6029 - val_categorical_accuracy: 0.8157\n",
      "Epoch 56/100\n",
      "95/95 [==============================] - 8s 80ms/step - loss: 0.5538 - categorical_accuracy: 0.8210 - val_loss: 0.6074 - val_categorical_accuracy: 0.8150\n",
      "Epoch 57/100\n",
      "95/95 [==============================] - 8s 81ms/step - loss: 0.5558 - categorical_accuracy: 0.8212 - val_loss: 0.6049 - val_categorical_accuracy: 0.8150\n",
      "Epoch 58/100\n",
      "95/95 [==============================] - 8s 83ms/step - loss: 0.5544 - categorical_accuracy: 0.8211 - val_loss: 0.5934 - val_categorical_accuracy: 0.8187\n",
      "Epoch 59/100\n",
      "95/95 [==============================] - 8s 82ms/step - loss: 0.5538 - categorical_accuracy: 0.8208 - val_loss: 0.5997 - val_categorical_accuracy: 0.8162\n",
      "Epoch 60/100\n",
      "95/95 [==============================] - 8s 83ms/step - loss: 0.5507 - categorical_accuracy: 0.8227 - val_loss: 0.5955 - val_categorical_accuracy: 0.8169\n",
      "Epoch 61/100\n",
      "95/95 [==============================] - 8s 81ms/step - loss: 0.5487 - categorical_accuracy: 0.8239 - val_loss: 0.5975 - val_categorical_accuracy: 0.8177\n",
      "Epoch 62/100\n",
      "95/95 [==============================] - 8s 82ms/step - loss: 0.5478 - categorical_accuracy: 0.8236 - val_loss: 0.5992 - val_categorical_accuracy: 0.8168\n",
      "Epoch 63/100\n",
      "95/95 [==============================] - 8s 82ms/step - loss: 0.5457 - categorical_accuracy: 0.8243 - val_loss: 0.5953 - val_categorical_accuracy: 0.8182\n",
      "Epoch 64/100\n",
      "95/95 [==============================] - 8s 82ms/step - loss: 0.5442 - categorical_accuracy: 0.8251 - val_loss: 0.5973 - val_categorical_accuracy: 0.8172\n",
      "Epoch 65/100\n",
      "95/95 [==============================] - 8s 82ms/step - loss: 0.5416 - categorical_accuracy: 0.8248 - val_loss: 0.6053 - val_categorical_accuracy: 0.8141\n",
      "Epoch 66/100\n",
      "95/95 [==============================] - 8s 82ms/step - loss: 0.5419 - categorical_accuracy: 0.8250 - val_loss: 0.6077 - val_categorical_accuracy: 0.8131\n",
      "Epoch 67/100\n",
      "95/95 [==============================] - 8s 81ms/step - loss: 0.5393 - categorical_accuracy: 0.8256 - val_loss: 0.6024 - val_categorical_accuracy: 0.8158\n",
      "Epoch 68/100\n",
      "95/95 [==============================] - 8s 81ms/step - loss: 0.5383 - categorical_accuracy: 0.8256 - val_loss: 0.5960 - val_categorical_accuracy: 0.8174\n",
      "Epoch 69/100\n",
      "95/95 [==============================] - 8s 83ms/step - loss: 0.5361 - categorical_accuracy: 0.8273 - val_loss: 0.5934 - val_categorical_accuracy: 0.8169\n",
      "Epoch 70/100\n",
      "95/95 [==============================] - 8s 80ms/step - loss: 0.5368 - categorical_accuracy: 0.8271 - val_loss: 0.5874 - val_categorical_accuracy: 0.8195\n",
      "Epoch 71/100\n",
      "95/95 [==============================] - 8s 82ms/step - loss: 0.5370 - categorical_accuracy: 0.8271 - val_loss: 0.5884 - val_categorical_accuracy: 0.8182\n",
      "Epoch 72/100\n",
      "95/95 [==============================] - 8s 83ms/step - loss: 0.5341 - categorical_accuracy: 0.8272 - val_loss: 0.5942 - val_categorical_accuracy: 0.8176\n",
      "Epoch 73/100\n",
      "95/95 [==============================] - 8s 82ms/step - loss: 0.5331 - categorical_accuracy: 0.8275 - val_loss: 0.5931 - val_categorical_accuracy: 0.8194\n",
      "Epoch 74/100\n",
      "95/95 [==============================] - 8s 82ms/step - loss: 0.5315 - categorical_accuracy: 0.8275 - val_loss: 0.6021 - val_categorical_accuracy: 0.8175\n",
      "Epoch 75/100\n",
      "95/95 [==============================] - 8s 82ms/step - loss: 0.5318 - categorical_accuracy: 0.8279 - val_loss: 0.5948 - val_categorical_accuracy: 0.8185\n",
      "Epoch 76/100\n",
      "95/95 [==============================] - 8s 81ms/step - loss: 0.5290 - categorical_accuracy: 0.8276 - val_loss: 0.5922 - val_categorical_accuracy: 0.8192\n",
      "Epoch 77/100\n",
      "95/95 [==============================] - 8s 82ms/step - loss: 0.5269 - categorical_accuracy: 0.8292 - val_loss: 0.5889 - val_categorical_accuracy: 0.8185\n",
      "Epoch 78/100\n",
      "95/95 [==============================] - 8s 82ms/step - loss: 0.5259 - categorical_accuracy: 0.8291 - val_loss: 0.6066 - val_categorical_accuracy: 0.8153\n",
      "Epoch 79/100\n",
      "95/95 [==============================] - 8s 80ms/step - loss: 0.5255 - categorical_accuracy: 0.8288 - val_loss: 0.5961 - val_categorical_accuracy: 0.8164\n",
      "Epoch 80/100\n",
      "95/95 [==============================] - 8s 82ms/step - loss: 0.5257 - categorical_accuracy: 0.8300 - val_loss: 0.5964 - val_categorical_accuracy: 0.8175\n",
      "Epoch 81/100\n",
      "95/95 [==============================] - 8s 82ms/step - loss: 0.5244 - categorical_accuracy: 0.8289 - val_loss: 0.6000 - val_categorical_accuracy: 0.8175\n",
      "Epoch 82/100\n",
      "95/95 [==============================] - 8s 82ms/step - loss: 0.5244 - categorical_accuracy: 0.8295 - val_loss: 0.5888 - val_categorical_accuracy: 0.8200\n",
      "Epoch 83/100\n",
      "95/95 [==============================] - 8s 82ms/step - loss: 0.5196 - categorical_accuracy: 0.8320 - val_loss: 0.5966 - val_categorical_accuracy: 0.8198\n",
      "Epoch 84/100\n",
      "95/95 [==============================] - 8s 83ms/step - loss: 0.5214 - categorical_accuracy: 0.8303 - val_loss: 0.5947 - val_categorical_accuracy: 0.8185\n",
      "Epoch 85/100\n",
      "95/95 [==============================] - 8s 83ms/step - loss: 0.5200 - categorical_accuracy: 0.8310 - val_loss: 0.5951 - val_categorical_accuracy: 0.8180\n",
      "Epoch 86/100\n",
      "95/95 [==============================] - 8s 83ms/step - loss: 0.5191 - categorical_accuracy: 0.8311 - val_loss: 0.5931 - val_categorical_accuracy: 0.8171\n",
      "Epoch 87/100\n",
      "95/95 [==============================] - 8s 82ms/step - loss: 0.5187 - categorical_accuracy: 0.8322 - val_loss: 0.5943 - val_categorical_accuracy: 0.8187\n",
      "Epoch 88/100\n",
      "95/95 [==============================] - 8s 82ms/step - loss: 0.5165 - categorical_accuracy: 0.8320 - val_loss: 0.6104 - val_categorical_accuracy: 0.8160\n",
      "Epoch 89/100\n",
      "95/95 [==============================] - 8s 83ms/step - loss: 0.5149 - categorical_accuracy: 0.8320 - val_loss: 0.5867 - val_categorical_accuracy: 0.8191\n",
      "Epoch 90/100\n",
      "95/95 [==============================] - 8s 82ms/step - loss: 0.5154 - categorical_accuracy: 0.8315 - val_loss: 0.5938 - val_categorical_accuracy: 0.8182\n",
      "Epoch 91/100\n",
      "95/95 [==============================] - 8s 82ms/step - loss: 0.5129 - categorical_accuracy: 0.8320 - val_loss: 0.5997 - val_categorical_accuracy: 0.8178\n",
      "Epoch 92/100\n",
      "95/95 [==============================] - 8s 80ms/step - loss: 0.5149 - categorical_accuracy: 0.8319 - val_loss: 0.5931 - val_categorical_accuracy: 0.8192\n",
      "Epoch 93/100\n",
      "95/95 [==============================] - 8s 80ms/step - loss: 0.5118 - categorical_accuracy: 0.8337 - val_loss: 0.5974 - val_categorical_accuracy: 0.8194\n",
      "Epoch 94/100\n",
      "95/95 [==============================] - 8s 79ms/step - loss: 0.5115 - categorical_accuracy: 0.8323 - val_loss: 0.5979 - val_categorical_accuracy: 0.8185\n",
      "Epoch 95/100\n",
      "95/95 [==============================] - 8s 80ms/step - loss: 0.5107 - categorical_accuracy: 0.8330 - val_loss: 0.5983 - val_categorical_accuracy: 0.8195\n",
      "Epoch 96/100\n",
      "95/95 [==============================] - 8s 80ms/step - loss: 0.5109 - categorical_accuracy: 0.8333 - val_loss: 0.5918 - val_categorical_accuracy: 0.8190\n",
      "Epoch 97/100\n",
      "95/95 [==============================] - 8s 80ms/step - loss: 0.5105 - categorical_accuracy: 0.8326 - val_loss: 0.5931 - val_categorical_accuracy: 0.8183\n",
      "Epoch 98/100\n",
      "95/95 [==============================] - 8s 80ms/step - loss: 0.5104 - categorical_accuracy: 0.8343 - val_loss: 0.5945 - val_categorical_accuracy: 0.8164\n",
      "Epoch 99/100\n",
      "95/95 [==============================] - 8s 80ms/step - loss: 0.5088 - categorical_accuracy: 0.8333 - val_loss: 0.5958 - val_categorical_accuracy: 0.8182\n",
      "Epoch 100/100\n",
      "95/95 [==============================] - 8s 81ms/step - loss: 0.5076 - categorical_accuracy: 0.8332 - val_loss: 0.5944 - val_categorical_accuracy: 0.8198\n"
     ]
    },
    {
     "data": {
      "image/png": "[encoded data removed]",
      "text/plain": [
       "<Figure size 432x288 with 1 Axes>"
      ]
     },
     "metadata": {
      "needs_background": "light",
      "tags": []
     },
     "output_type": "display_data"
    }
   ],
   "source": [
    "history = model.fit(x_train,y_train,epochs=100,batch_size=1024,validation_split=0.2)\n",
    "pyplot.plot(history.history['loss'], label='train')\n",
    "pyplot.plot(history.history['val_loss'], label='validation')\n",
    "pyplot.legend()\n",
    "pyplot.show()"
   ]
  },
  {
   "cell_type": "code",
   "execution_count": 19,
   "metadata": {
    "colab": {
     "base_uri": "https://localhost:8080/",
     "height": 265
    },
    "colab_type": "code",
    "id": "KhV-INlomkMX",
    "outputId": "9e793635-67a6-4707-de2b-e81ba707871f"
   },
   "outputs": [
    {
     "data": {
      "image/png": "[encoded data removed]",
      "text/plain": [
       "<Figure size 432x288 with 1 Axes>"
      ]
     },
     "metadata": {
      "needs_background": "light",
      "tags": []
     },
     "output_type": "display_data"
    }
   ],
   "source": [
    "pyplot.plot(history.history['categorical_accuracy'], label='train')\n",
    "pyplot.plot(history.history['val_categorical_accuracy'], label='validation')\n",
    "pyplot.legend()\n",
    "pyplot.show()"
   ]
  },
  {
   "cell_type": "markdown",
   "metadata": {},
   "source": [
    "### Evaluating the performance of our trained model on test set"
   ]
  },
  {
   "cell_type": "code",
   "execution_count": 20,
   "metadata": {
    "colab": {
     "base_uri": "https://localhost:8080/",
     "height": 53
    },
    "colab_type": "code",
    "id": "AawVpicFR35q",
    "outputId": "1d43f29e-0c4e-4a41-9017-d133dc545cbf"
   },
   "outputs": [
    {
     "name": "stdout",
     "output_type": "stream",
     "text": [
      "767/767 [==============================] - 6s 8ms/step - loss: 0.5856 - categorical_accuracy: 0.8222\n"
     ]
    },
    {
     "data": {
      "text/plain": [
       "[0.5855921506881714, 0.8222466707229614]"
      ]
     },
     "execution_count": 20,
     "metadata": {
      "tags": []
     },
     "output_type": "execute_result"
    }
   ],
   "source": [
    "model.evaluate(x_test,y_test)"
   ]
  },
  {
   "cell_type": "markdown",
   "metadata": {},
   "source": [
    "### Evaluating performance on random tokens of data"
   ]
  },
  {
   "cell_type": "code",
   "execution_count": 21,
   "metadata": {
    "colab": {},
    "colab_type": "code",
    "id": "LjKDqVf6SP1T"
   },
   "outputs": [],
   "source": [
    "def demo(dem):\n",
    "  demo_s = clean_text(dem)\n",
    "  demo_s = np.array(tokenizer.texts_to_sequences(demo_s))\n",
    "  demo_s = demo_s.reshape((1,demo_s.shape[0]))\n",
    "  demo_s = pad_sequences(demo_s, maxlen=76, padding=\"pre\", truncating=\"post\")\n",
    "  pred = np.around(model.predict(demo_s))\n",
    "  num = np.argmax(pred)\n",
    "  langu_age = reverse_lang_index[num]\n",
    "  return langu_age"
   ]
  },
  {
   "cell_type": "code",
   "execution_count": 22,
   "metadata": {
    "colab": {
     "base_uri": "https://localhost:8080/",
     "height": 36
    },
    "colab_type": "code",
    "id": "RSdAcurIaJ50",
    "outputId": "0e005056-6401-4d28-8ace-1a399c34e9d2"
   },
   "outputs": [
    {
     "data": {
      "application/vnd.google.colaboratory.intrinsic+json": {
       "type": "string"
      },
      "text/plain": [
       "'python'"
      ]
     },
     "execution_count": 22,
     "metadata": {
      "tags": []
     },
     "output_type": "execute_result"
    }
   ],
   "source": [
    "demo('How to pause and resume a while loop in Python ? I want to have a loop running that will print \"Hello\" and when I press \"K\" it stops printing but it does not end the program, then when I press \"K\" again it starts printing again.')"
   ]
  }
 ],
 "metadata": {
  "accelerator": "GPU",
  "colab": {
   "collapsed_sections": [],
   "name": "Untitled5.ipynb",
   "provenance": []
  },
  "kernelspec": {
   "display_name": "Python 3",
   "language": "python",
   "name": "python3"
  },
  "language_info": {
   "codemirror_mode": {
    "name": "ipython",
    "version": 3
   },
   "file_extension": ".py",
   "mimetype": "text/x-python",
   "name": "python",
   "nbconvert_exporter": "python",
   "pygments_lexer": "ipython3",
   "version": "3.7.6"
  }
 },
 "nbformat": 4,
 "nbformat_minor": 1
}
